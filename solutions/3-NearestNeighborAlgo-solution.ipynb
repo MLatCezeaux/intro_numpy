{
 "cells": [
  {
   "cell_type": "markdown",
   "metadata": {},
   "source": [
    "# Solutions: nearest neighbors computation\n",
    "\n",
    "This notebook contains practical exercise to manipulate the $k$ nearest neighbors of a particular observation under study, the so called **kNN aglorithm**, standing for *k Nearest Neighbor*.\n",
    "\n",
    "## Import and pseudo-datasets"
   ]
  },
  {
   "cell_type": "code",
   "execution_count": 1,
   "metadata": {},
   "outputs": [],
   "source": [
    "import numpy as np\n",
    "import pandas as pd\n",
    "import matplotlib as mpl\n",
    "import matplotlib.pyplot as plt\n",
    "%matplotlib inline"
   ]
  },
  {
   "cell_type": "code",
   "execution_count": 2,
   "metadata": {},
   "outputs": [],
   "source": [
    "# Plot settings\n",
    "mpl.rcParams['legend.frameon'] = False\n",
    "mpl.rcParams['legend.fontsize'] = 'xx-large'\n",
    "mpl.rcParams['xtick.labelsize'] = 16\n",
    "mpl.rcParams['ytick.labelsize'] = 16\n",
    "mpl.rcParams['axes.titlesize'] = 18\n",
    "mpl.rcParams['axes.labelsize'] = 18\n",
    "mpl.rcParams['lines.linewidth'] = 2.5\n",
    "mpl.rcParams['figure.figsize'] = (10, 7)"
   ]
  },
  {
   "cell_type": "markdown",
   "metadata": {},
   "source": [
    "The following piece of code create two reference dataset (*training*) containing 1 million observation, each observation consist of 25 variables (or *features*). For the purpose of the exercise, we use gaussian numbers with a mean of -2.5 and +2.5 for training dataset 1 and 2 respectively (both having a RMS of 5)."
   ]
  },
  {
   "cell_type": "code",
   "execution_count": 3,
   "metadata": {},
   "outputs": [],
   "source": [
    "# Generation of two (training) datasets of 10e6 observations contanining 25 features each\n",
    "Nobs = 1000000\n",
    "trainX1 = 5.0*np.random.randn(Nobs,25) - 2.5\n",
    "trainX2 = 5.0*np.random.randn(Nobs,25) + 2.5"
   ]
  },
  {
   "cell_type": "markdown",
   "metadata": {},
   "source": [
    "Since our training dataset is known, it can be useful to consider labels associated to each event. This label is the property we might want to predict for a new, unknown observation. We decide to label `trainX1` with `1` and `trainX2` with `2`:"
   ]
  },
  {
   "cell_type": "code",
   "execution_count": 4,
   "metadata": {},
   "outputs": [],
   "source": [
    "# Create the target (or label for each dataset)\n",
    "trainY1 = np.zeros(Nobs)+1\n",
    "trainY2 = np.zeros(Nobs)+2"
   ]
  },
  {
   "cell_type": "markdown",
   "metadata": {},
   "source": [
    "## Quick data inspection\n",
    "\n",
    "Plot and compare the distribution of the first variables for `dataX1` and `dataX2`"
   ]
  },
  {
   "cell_type": "code",
   "execution_count": 5,
   "metadata": {},
   "outputs": [
    {
     "data": {
      "image/png": "[encoded data removed]",
      "text/plain": [
       "<Figure size 720x504 with 1 Axes>"
      ]
     },
     "metadata": {
      "needs_background": "light"
     },
     "output_type": "display_data"
    }
   ],
   "source": [
    "# Plotting the distributions of the first feature\n",
    "plt.hist(trainX1[:, 0], bins=100, alpha=0.3)\n",
    "plt.hist(trainX2[:, 0], bins=100, alpha=0.3);"
   ]
  },
  {
   "cell_type": "markdown",
   "metadata": {},
   "source": [
    "## Nearest neighbors of a new observation `obs`"
   ]
  },
  {
   "cell_type": "code",
   "execution_count": 6,
   "metadata": {},
   "outputs": [
    {
     "name": "stdout",
     "output_type": "stream",
     "text": [
      "[-0.66949702  0.90758286 -0.23019573 -0.63474657 -0.05106162 -1.85110552\n",
      "  2.55393216  0.34754116 -0.24648303 -0.70149329 -0.02215666  0.20624167\n",
      " -1.0469804   1.39196367 -0.13784924 -1.01227198 -1.15605235  0.82405666\n",
      " -0.83293886 -0.96144264 -1.53850312  0.70726616 -0.97153848  0.05854317\n",
      " -0.04713646]\n"
     ]
    }
   ],
   "source": [
    "# compute distances for a test observation\n",
    "obs = np.random.randn(25)\n",
    "print(obs)"
   ]
  },
  {
   "cell_type": "markdown",
   "metadata": {},
   "source": [
    "### Merge the two datasets `X` and `Y`\n",
    "\n",
    "The idea is to manipulate a single array `trainX` for the features regardless of the type of data (1 or 2), while keeping track of the label with a single `trainY` array:"
   ]
  },
  {
   "cell_type": "code",
   "execution_count": 7,
   "metadata": {},
   "outputs": [],
   "source": [
    "trainX = np.concatenate([trainX1, trainX2])\n",
    "trainY = np.concatenate([trainY1, trainY2])"
   ]
  },
  {
   "cell_type": "markdown",
   "metadata": {},
   "source": [
    "### Compute the distance between `obs` and the global dataset\n",
    "\n",
    "Using broadcasting and vectorized operation, compute the euclidien distance in the 25 dimension space between the unknown observation and every point of the global dataset (containing both data of type 1 and 2)."
   ]
  },
  {
   "cell_type": "code",
   "execution_count": 8,
   "metadata": {},
   "outputs": [],
   "source": [
    "distances = np.sum((trainX-obs)**2, axis=1)**(0.5)"
   ]
  },
  {
   "cell_type": "markdown",
   "metadata": {},
   "source": [
    "### Sort the distances to have the nearest points first\n",
    "\n",
    "In this question, we want to sort distances by increasing order (to later take only the $k$ first ones), and the associated type of neighbors (1 or 2). \n",
    "\n",
    "**HINT:** this can be done using the function `np.argsort()`."
   ]
  },
  {
   "cell_type": "code",
   "execution_count": 9,
   "metadata": {},
   "outputs": [],
   "source": [
    "# Get the point indices by increasing distances\n",
    "sorted_points = np.argsort(distances)\n",
    "\n",
    "# Get the sorted distances\n",
    "sdistances = distances[sorted_points]\n",
    "\n",
    "# Get the corresponding data type\n",
    "sorted_trainY = trainY[sorted_points]"
   ]
  },
  {
   "cell_type": "markdown",
   "metadata": {},
   "source": [
    "### Count the number of nearest neighbors of type 1 and type 2 \n",
    "\n",
    "We would like to consider the k nearest neighbors, and count the fraction of type 1 and type 2 data (to later be able to say if our unknown observation is more likely to be of type 1 or 2). Of course, if we consider the whole training points (`k=Nobs`), there will be `Nobs` points of type 1 and `Nobs` points of type 2. This is why it is interesting to compute the number of type 1 and type 2 neihbors *as a function of k*. We will consider all k values from 1 to 500.\n",
    "\n",
    "**HINT:** the function `np.cumsum()` might be useful."
   ]
  },
  {
   "cell_type": "code",
   "execution_count": 10,
   "metadata": {},
   "outputs": [],
   "source": [
    "# Get the number of neighbor type 1 and type 2 among the k nearest neighbor\n",
    "Nb1 = np.cumsum(sorted_trainY==1)\n",
    "Nb2 = np.cumsum(sorted_trainY==2)\n",
    "\n",
    "# Consider only the k values from 1 to 500\n",
    "Nb1 = Nb1[:500]\n",
    "Nb2 = Nb2[:500]"
   ]
  },
  {
   "cell_type": "markdown",
   "metadata": {},
   "source": [
    "Plot the number of neighbors of type 1 and type 2 as a function of $k$"
   ]
  },
  {
   "cell_type": "code",
   "execution_count": 11,
   "metadata": {
    "scrolled": false
   },
   "outputs": [
    {
     "data": {
      "image/png": "[encoded data removed]",
      "text/plain": [
       "<Figure size 720x504 with 1 Axes>"
      ]
     },
     "metadata": {
      "needs_background": "light"
     },
     "output_type": "display_data"
    }
   ],
   "source": [
    "plt.plot(Nb1, label='sample 1')\n",
    "plt.plot(Nb2, label='sample 2')\n",
    "plt.ylabel('Number of k Nearst Neighbor')\n",
    "plt.xlabel('k')\n",
    "plt.legend();"
   ]
  },
  {
   "cell_type": "markdown",
   "metadata": {},
   "source": [
    "### Create a function `get_kNN()` doing all this at once\n",
    "\n",
    "We want now to have a function taking in argument an observation, a training sample trainX and a target trainY *with an arbitray number of type of data*, which returns the number of nearest neighbors up to kmax for each data type (formated into a list)."
   ]
  },
  {
   "cell_type": "code",
   "execution_count": 12,
   "metadata": {},
   "outputs": [],
   "source": [
    "def get_kNN(obs, trainX, trainY, kmax=500):\n",
    "    \n",
    "    '''\n",
    "    Compute the number of nearest neighbors (up to kmax) of an \n",
    "    observation `obs` with a training sample `trainX` labled \n",
    "    with `trainY`.\n",
    "    \n",
    "    return [N1, N2, ... Nj] (list of neighbors number for each k<kmax)\n",
    "    '''\n",
    "    \n",
    "    # Compute distances\n",
    "    r = np.sum((trainX-obs)**2, axis=1)**(0.5)\n",
    "    \n",
    "    # Sort the distances\n",
    "    sorted_NN = np.argsort(r)\n",
    "    sorted_trainY = trainY[sorted_NN]\n",
    "    \n",
    "    # Get the number of labels\n",
    "    labels = np.unique(trainY)\n",
    "    \n",
    "    # Loop over labels and count the number of  nearest neighbors\n",
    "    res = [np.cumsum(sorted_trainY==l)[:kmax] for l in labels]\n",
    "    \n",
    "    # Return the array of number of nearest neighbor\n",
    "    return res\n",
    "\n",
    "\n",
    "def plot_kNN(kNN_array):\n",
    "    for i, kNN in  enumerate(kNN_array):\n",
    "        plt.plot(kNN, label='Sample {}'.format(i+1))\n",
    "    plt.ylabel('Number of k Nearst Neighbors')\n",
    "    plt.xlabel('k')\n",
    "    plt.legend()\n",
    "    return"
   ]
  },
  {
   "cell_type": "code",
   "execution_count": 13,
   "metadata": {},
   "outputs": [
    {
     "data": {
      "image/png": "[encoded data removed]",
      "text/plain": [
       "<Figure size 720x504 with 1 Axes>"
      ]
     },
     "metadata": {
      "needs_background": "light"
     },
     "output_type": "display_data"
    }
   ],
   "source": [
    "# Plot one observation\n",
    "kNN = get_kNN(obs, trainX, trainY, kmax=100)\n",
    "plot_kNN(kNN)"
   ]
  },
  {
   "cell_type": "markdown",
   "metadata": {},
   "source": [
    "## Nearest neighbors of a new set of unknown observations `testX`"
   ]
  },
  {
   "cell_type": "code",
   "execution_count": 18,
   "metadata": {},
   "outputs": [],
   "source": [
    "def get_kNN_vec(dataX, trainX, trainY, kmax=500):\n",
    "    \n",
    "    '''\n",
    "    Compute the number of nearest neighbors (up to kmax) of an \n",
    "    observation `o` for two sample `d1` and `d2`.\n",
    "    \n",
    "    return N1, N2 (array of neighbors in data1 and data2 in the kmax nearest ones)\n",
    "    '''\n",
    "    \n",
    "    # Get some numbers (o must be a 2D array)\n",
    "    nd, nv = dataX.shape[0], dataX.shape[1]\n",
    "    nt = trainX.shape[0]\n",
    "    \n",
    "    # Prepare proper broadcasting\n",
    "    trainX = trainX.reshape(1, nt, nv)\n",
    "    dataX = dataX.reshape(nd, 1, nv)\n",
    "    \n",
    "    # Compute distances\n",
    "    r = np.sum((trainX-dataX)**2, axis=2)**(0.5)\n",
    "    \n",
    "    # Sort the distances along distances\n",
    "    sorted_NN = np.argsort(r, axis=1)\n",
    "    sorted_trainY = trainY[sorted_points]\n",
    "    \n",
    "    # Get the number of labels\n",
    "    labels = np.unique(trainY)\n",
    "    \n",
    "    # Loop over labels and count the number of  nearest neighbors\n",
    "    res = [np.cumsum(sorted_trainY==l)[:, :kmax] for l in labels]\n",
    "    \n",
    "    # Return the array of number of nearest neighbor\n",
    "    return res"
   ]
  },
  {
   "cell_type": "code",
   "execution_count": 19,
   "metadata": {
    "scrolled": false
   },
   "outputs": [],
   "source": [
    "def kNNprediction(d, t1, t2, k=100, n=500):\n",
    "    n1, n2 = t1.shape[0], t2.shape[0]\n",
    "    d1, d2 = t1[::int(n1/n)], t2[::int(n2/n)]\n",
    "    return get_kNN_vec(d, d1, d2, k)"
   ]
  },
  {
   "cell_type": "code",
   "execution_count": 20,
   "metadata": {},
   "outputs": [],
   "source": [
    "# Generate pseudo data like data1 and data2\n",
    "data_obs_like1 = 3*np.random.randn(10000,25)-2\n",
    "data_obs_like2 = 3*np.random.randn(10000,25)+1.5"
   ]
  },
  {
   "cell_type": "code",
   "execution_count": 21,
   "metadata": {},
   "outputs": [
    {
     "ename": "IndexError",
     "evalue": "index 851122 is out of bounds for axis 1 with size 500",
     "output_type": "error",
     "traceback": [
      "\u001b[1;31m---------------------------------------------------------------------------\u001b[0m",
      "\u001b[1;31mIndexError\u001b[0m                                Traceback (most recent call last)",
      "\u001b[1;32m<ipython-input-21-12728454fc43>\u001b[0m in \u001b[0;36m<module>\u001b[1;34m\u001b[0m\n\u001b[0;32m      4\u001b[0m \u001b[1;31m# obs2_N1, obs2_N2 = kNNprediction(d=data_obs_like2, t1=data1, t2=data2, k=kmax)\u001b[0m\u001b[1;33m\u001b[0m\u001b[1;33m\u001b[0m\u001b[1;33m\u001b[0m\u001b[0m\n\u001b[0;32m      5\u001b[0m \u001b[1;33m\u001b[0m\u001b[0m\n\u001b[1;32m----> 6\u001b[1;33m \u001b[0mtest\u001b[0m \u001b[1;33m=\u001b[0m \u001b[0mkNNprediction\u001b[0m\u001b[1;33m(\u001b[0m\u001b[0mdata_obs_like1\u001b[0m\u001b[1;33m,\u001b[0m \u001b[0mtrainX\u001b[0m\u001b[1;33m,\u001b[0m \u001b[0mtrainY\u001b[0m\u001b[1;33m)\u001b[0m\u001b[1;33m\u001b[0m\u001b[1;33m\u001b[0m\u001b[0m\n\u001b[0m",
      "\u001b[1;32m<ipython-input-19-d2e6189864c9>\u001b[0m in \u001b[0;36mkNNprediction\u001b[1;34m(d, t1, t2, k, n)\u001b[0m\n\u001b[0;32m      2\u001b[0m     \u001b[0mn1\u001b[0m\u001b[1;33m,\u001b[0m \u001b[0mn2\u001b[0m \u001b[1;33m=\u001b[0m \u001b[0mt1\u001b[0m\u001b[1;33m.\u001b[0m\u001b[0mshape\u001b[0m\u001b[1;33m[\u001b[0m\u001b[1;36m0\u001b[0m\u001b[1;33m]\u001b[0m\u001b[1;33m,\u001b[0m \u001b[0mt2\u001b[0m\u001b[1;33m.\u001b[0m\u001b[0mshape\u001b[0m\u001b[1;33m[\u001b[0m\u001b[1;36m0\u001b[0m\u001b[1;33m]\u001b[0m\u001b[1;33m\u001b[0m\u001b[1;33m\u001b[0m\u001b[0m\n\u001b[0;32m      3\u001b[0m     \u001b[0md1\u001b[0m\u001b[1;33m,\u001b[0m \u001b[0md2\u001b[0m \u001b[1;33m=\u001b[0m \u001b[0mt1\u001b[0m\u001b[1;33m[\u001b[0m\u001b[1;33m:\u001b[0m\u001b[1;33m:\u001b[0m\u001b[0mint\u001b[0m\u001b[1;33m(\u001b[0m\u001b[0mn1\u001b[0m\u001b[1;33m/\u001b[0m\u001b[0mn\u001b[0m\u001b[1;33m)\u001b[0m\u001b[1;33m]\u001b[0m\u001b[1;33m,\u001b[0m \u001b[0mt2\u001b[0m\u001b[1;33m[\u001b[0m\u001b[1;33m:\u001b[0m\u001b[1;33m:\u001b[0m\u001b[0mint\u001b[0m\u001b[1;33m(\u001b[0m\u001b[0mn2\u001b[0m\u001b[1;33m/\u001b[0m\u001b[0mn\u001b[0m\u001b[1;33m)\u001b[0m\u001b[1;33m]\u001b[0m\u001b[1;33m\u001b[0m\u001b[1;33m\u001b[0m\u001b[0m\n\u001b[1;32m----> 4\u001b[1;33m     \u001b[1;32mreturn\u001b[0m \u001b[0mget_kNN_vec\u001b[0m\u001b[1;33m(\u001b[0m\u001b[0md\u001b[0m\u001b[1;33m,\u001b[0m \u001b[0md1\u001b[0m\u001b[1;33m,\u001b[0m \u001b[0md2\u001b[0m\u001b[1;33m,\u001b[0m \u001b[0mk\u001b[0m\u001b[1;33m)\u001b[0m\u001b[1;33m\u001b[0m\u001b[1;33m\u001b[0m\u001b[0m\n\u001b[0m",
      "\u001b[1;32m<ipython-input-18-356b29002300>\u001b[0m in \u001b[0;36mget_kNN_vec\u001b[1;34m(dataX, trainX, trainY, kmax)\u001b[0m\n\u001b[0;32m     21\u001b[0m     \u001b[1;31m# Sort the distances along distances\u001b[0m\u001b[1;33m\u001b[0m\u001b[1;33m\u001b[0m\u001b[1;33m\u001b[0m\u001b[0m\n\u001b[0;32m     22\u001b[0m     \u001b[0msorted_NN\u001b[0m \u001b[1;33m=\u001b[0m \u001b[0mnp\u001b[0m\u001b[1;33m.\u001b[0m\u001b[0margsort\u001b[0m\u001b[1;33m(\u001b[0m\u001b[0mr\u001b[0m\u001b[1;33m,\u001b[0m \u001b[0maxis\u001b[0m\u001b[1;33m=\u001b[0m\u001b[1;36m1\u001b[0m\u001b[1;33m)\u001b[0m\u001b[1;33m\u001b[0m\u001b[1;33m\u001b[0m\u001b[0m\n\u001b[1;32m---> 23\u001b[1;33m     \u001b[0msorted_trainY\u001b[0m \u001b[1;33m=\u001b[0m \u001b[0mtrainY\u001b[0m\u001b[1;33m[\u001b[0m\u001b[0msorted_points\u001b[0m\u001b[1;33m]\u001b[0m\u001b[1;33m\u001b[0m\u001b[1;33m\u001b[0m\u001b[0m\n\u001b[0m\u001b[0;32m     24\u001b[0m \u001b[1;33m\u001b[0m\u001b[0m\n\u001b[0;32m     25\u001b[0m     \u001b[1;31m# Get the number of labels\u001b[0m\u001b[1;33m\u001b[0m\u001b[1;33m\u001b[0m\u001b[1;33m\u001b[0m\u001b[0m\n",
      "\u001b[1;31mIndexError\u001b[0m: index 851122 is out of bounds for axis 1 with size 500"
     ]
    }
   ],
   "source": [
    "# # Compute the number of kNN for training1, training2\n",
    "# kmax = 200\n",
    "# obs1_N1, obs1_N2 = kNNprediction(d=data_obs_like1, t1=data1, t2=data2, k=kmax)\n",
    "# obs2_N1, obs2_N2 = kNNprediction(d=data_obs_like2, t1=data1, t2=data2, k=kmax)\n",
    "\n",
    "test = kNNprediction(data_obs_like1, trainX, trainY)"
   ]
  },
  {
   "cell_type": "code",
   "execution_count": null,
   "metadata": {},
   "outputs": [],
   "source": [
    "style = {'bins': np.linspace(0, 1, 50), 'alpha': 0.5}\n",
    "plt.hist(obs1_N1/kmax, **style, label='Data1_like observations')\n",
    "plt.hist(obs2_N1/kmax, **style, label='Data2_like observations');\n",
    "plt.xlabel('Fraction of data1 neighbors in the {} nearest ones'.format(kmax))\n",
    "plt.legend();"
   ]
  },
  {
   "cell_type": "markdown",
   "metadata": {},
   "source": [
    "## Details of sorting and take_along_axis functions"
   ]
  },
  {
   "cell_type": "code",
   "execution_count": 20,
   "metadata": {
    "scrolled": false
   },
   "outputs": [
    {
     "name": "stdout",
     "output_type": "stream",
     "text": [
      "(Nevt, k, distance+label) = (2, 3, 2)\n"
     ]
    }
   ],
   "source": [
    "# Define 2 observations with 3 neighbors\n",
    "a = np.array([\n",
    "    [[0.3, 1],\n",
    "    [0.2, 1],\n",
    "    [0.5, 2]],\n",
    "    \n",
    "    [[0.47, 2],\n",
    "    [0.23, 2],\n",
    "    [0.15, 1]]])\n",
    "print('(Nevt, k, distance+label) = {}'.format(a.shape))"
   ]
  },
  {
   "cell_type": "code",
   "execution_count": 34,
   "metadata": {},
   "outputs": [
    {
     "name": "stdout",
     "output_type": "stream",
     "text": [
      "(2, 3)\n",
      "[[1 0 2]\n",
      " [2 1 0]]\n"
     ]
    }
   ],
   "source": [
    "# Get sorted index along axis=(0, 1) based on the distance\n",
    "ikd = np.argsort(a[:, :, 0])\n",
    "print(ikd.shape)\n",
    "print(ikd)"
   ]
  },
  {
   "cell_type": "code",
   "execution_count": 36,
   "metadata": {},
   "outputs": [
    {
     "data": {
      "text/plain": [
       "array([[[0.2 , 1.  ],\n",
       "        [0.3 , 1.  ],\n",
       "        [0.5 , 2.  ]],\n",
       "\n",
       "       [[0.15, 1.  ],\n",
       "        [0.23, 2.  ],\n",
       "        [0.47, 2.  ]]])"
      ]
     },
     "execution_count": 36,
     "metadata": {},
     "output_type": "execute_result"
    }
   ],
   "source": [
    "# Use fancy indexing in nd array based on broadcasted index arrays\n",
    "ix = np.arange(a.shape[0]) # create 1D index with Nevt \n",
    "ix = ix[:, np.newaxis]     # add a new axis for broadcasting with 2D ikd array\n",
    "a[ix, ikd]                 # take ix for axis=0 and ikd for axis=(1, 2)"
   ]
  },
  {
   "cell_type": "code",
   "execution_count": 61,
   "metadata": {},
   "outputs": [
    {
     "data": {
      "text/plain": [
       "array([[[0.2 , 1.  ],\n",
       "        [0.3 , 1.  ],\n",
       "        [0.5 , 2.  ]],\n",
       "\n",
       "       [[0.15, 1.  ],\n",
       "        [0.23, 2.  ],\n",
       "        [0.47, 2.  ]]])"
      ]
     },
     "execution_count": 61,
     "metadata": {},
     "output_type": "execute_result"
    }
   ],
   "source": [
    "# This logic is implemented in the take_along_axis function\n",
    "np.take_along_axis(a, ikd[:, :, np.newaxis], axis=1)"
   ]
  },
  {
   "cell_type": "markdown",
   "metadata": {},
   "source": [
    "## Next step/doc\n",
    "\n",
    "1. Understand how the function `np.take_along_axis()` works exactly?\n",
    "https://stackoverflow.com/questions/47044792/sort-invariant-for-numpy-argsort-with-multiple-dimensions , which requires to better understand fancy indexing ...\n",
    "2. How to not redo the distance between a point and all the training points for a new observation? This is apparently not possible with kNN algo: This refers to *lazy* versus *eager* learner.\n",
    "3. Re-write the main function for an arbitrary number of populations `di`"
   ]
  },
  {
   "cell_type": "markdown",
   "metadata": {},
   "source": [
    "# Trying with one dataset label in possibly many categories"
   ]
  },
  {
   "cell_type": "code",
   "execution_count": 143,
   "metadata": {},
   "outputs": [],
   "source": [
    "Nobs = 1000000\n",
    "mulist = [-5, -2, 0, 2, 5]\n",
    "dlist = [5.0*np.random.randn(Nobs,25)+mu for mu in mulist]\n",
    "llist = [np.zeros(Nobs)+i for i in np.arange(len(mulist))]"
   ]
  },
  {
   "cell_type": "code",
   "execution_count": 144,
   "metadata": {},
   "outputs": [],
   "source": [
    "trainX = np.concatenate(dlist)\n",
    "trainY = np.concatenate(llist)"
   ]
  },
  {
   "cell_type": "code",
   "execution_count": 73,
   "metadata": {},
   "outputs": [],
   "source": [
    "def get_kNN(dataX, trainX, trainY, k=500):\n",
    "    \n",
    "    '''\n",
    "    Compute the number of nearest neighbors (up to k) on a data sample \n",
    "    `d` for a traning sample `t` and its label `l`.\n",
    "    \n",
    "    return [N1, N2, ... , Nnl] (array of neighbors in each label value\n",
    "    in the kmax nearest ones)\n",
    "    '''\n",
    "    \n",
    "    # Sanity checks\n",
    "    if d.ndim != 2:\n",
    "        raise NameError('Data must be a 2D array')\n",
    "    if t.shape[0] != l.shape[0]:\n",
    "        raise NameError('Training dataset and label must have the same size')\n",
    "    if d.shape[1] != t.shape[1]:\n",
    "        raise NameError('Test and training dataset must have the same number of features')\n",
    "    \n",
    "    # Get some numbers (o must be a 2D array)\n",
    "    nd, nv = d.shape[0], d.shape[1]\n",
    "    nt = t.shape[0]\n",
    "    \n",
    "    # Prepare proper broadcasting\n",
    "    t = t.reshape( 1, nt, nv)\n",
    "    d = d.reshape(nd,  1, nv)\n",
    "    \n",
    "    # Compute distances\n",
    "    r = np.sum((d-t)**2, axis=2)**(0.5)\n",
    "    \n",
    "    # Sort the distances along distances\n",
    "    si = np.argsort(r)\n",
    "    sl = l[si]\n",
    "    \n",
    "    # Get list of labels\n",
    "    labels = np.unique(sl)\n",
    "    \n",
    "    # Count the number of neighbor of each label around each observation\n",
    "    Nlabel_dict = {label: np.count_nonzero(sl[:, :k]==label, axis=1) for label in labels}\n",
    "    \n",
    "    # Return the array of number of nearest neighbor\n",
    "    return Nlabel_dict"
   ]
  },
  {
   "cell_type": "code",
   "execution_count": 178,
   "metadata": {},
   "outputs": [],
   "source": [
    "kmax=100\n",
    "kNN1 = get_kNN(data_obs_like1, trainX[::5000], trainY[::5000], k=kmax)\n",
    "kNN2 = get_kNN(data_obs_like2, trainX[::5000], trainY[::5000], k=kmax)"
   ]
  },
  {
   "cell_type": "code",
   "execution_count": 185,
   "metadata": {},
   "outputs": [
    {
     "data": {
      "image/png": "[encoded data removed]",
      "text/plain": [
       "<Figure size 1728x576 with 2 Axes>"
      ]
     },
     "metadata": {
      "needs_background": "light"
     },
     "output_type": "display_data"
    }
   ],
   "source": [
    "plt.figure(figsize=(24, 8))\n",
    "plt.subplot(121)\n",
    "for k, v in kNN1.items():\n",
    "    plt.hist(v/kmax, label='cat {:.0f}'.format(k), alpha=0.5, bins=np.linspace(0, 0.7, 35))\n",
    "plt.legend();\n",
    "\n",
    "plt.subplot(122)\n",
    "for k, v in kNN2.items():\n",
    "    plt.hist(v/kmax, label='cat {:.0f}'.format(k), alpha=0.5, bins=np.linspace(0, 0.7, 35))\n",
    "plt.legend();"
   ]
  }
 ],
 "metadata": {
  "kernelspec": {
   "display_name": "Python 3",
   "language": "python",
   "name": "python3"
  },
  "language_info": {
   "codemirror_mode": {
    "name": "ipython",
    "version": 3
   },
   "file_extension": ".py",
   "mimetype": "text/x-python",
   "name": "python",
   "nbconvert_exporter": "python",
   "pygments_lexer": "ipython3",
   "version": "3.7.1"
  }
 },
 "nbformat": 4,
 "nbformat_minor": 2
}
