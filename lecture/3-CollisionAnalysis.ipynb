{
 "cells": [
  {
   "cell_type": "markdown",
   "metadata": {},
   "source": [
    "# Collider data analysis and limitations\n",
    "\n",
    "The goal of this chapter is to apply the HEP-like computation using simulated collider data. This will allows to work in more realistic cases and go a bit further. Indeed, NumPy has some fundamental limitations that we propose to put in evidence as a first step. In a seconde step, we will try to work-around these limitations by writting purely vectorized functions performing operations which would normally require a *for* loop.\n",
    "\n",
    "**Note:** the module [uproot](https://github.com/scikit-hep/uproot) need to be installed, which can be done by running this command into a cell inside this notebook:\n",
    "```\n",
    "!pip install uproot\n",
    "```"
   ]
  },
  {
   "cell_type": "code",
   "execution_count": 3,
   "metadata": {},
   "outputs": [],
   "source": [
    "# Disable warnings\n",
    "import warnings\n",
    "warnings.filterwarnings('ignore')\n",
    "\n",
    "# Usual library\n",
    "import pandas as pd\n",
    "import numpy as np\n",
    "import matplotlib.pyplot as plt\n",
    "%matplotlib inline\n",
    "\n",
    "# ROOT-numpy interface\n",
    "import uproot"
   ]
  },
  {
   "cell_type": "code",
   "execution_count": 4,
   "metadata": {},
   "outputs": [],
   "source": [
    "# Plot settings\n",
    "import matplotlib as mpl\n",
    "mpl.rcParams['legend.frameon'] = False\n",
    "mpl.rcParams['legend.fontsize'] = 'xx-large'\n",
    "mpl.rcParams['xtick.labelsize'] = 16\n",
    "mpl.rcParams['ytick.labelsize'] = 16\n",
    "mpl.rcParams['axes.titlesize'] = 18\n",
    "mpl.rcParams['axes.labelsize'] = 18\n",
    "mpl.rcParams['lines.linewidth'] = 2.5"
   ]
  },
  {
   "cell_type": "markdown",
   "metadata": {},
   "source": [
    "## Loading a ROOT TTree as a pandas DataFrame\n",
    "\n",
    "The very first step is to load data of a TTree in python, using uproot:"
   ]
  },
  {
   "cell_type": "code",
   "execution_count": 5,
   "metadata": {},
   "outputs": [],
   "source": [
    "rootfile = uproot.open(\"collisions.root\")\n",
    "uptree = rootfile['event_tree']"
   ]
  },
  {
   "cell_type": "markdown",
   "metadata": {},
   "source": [
    "Then, there are different ways to export this TTree into a NumPy-related object. More details can be found in [the uproot documentation](https://uproot.readthedocs.io/en/latest/index.html) but we will just use the `uptree.arrays()` method which returns a dictionnary of *jagged arrays* (*i.e.* array with variable size): "
   ]
  },
  {
   "cell_type": "code",
   "execution_count": 6,
   "metadata": {},
   "outputs": [],
   "source": [
    "ar_dict = uptree.arrays()"
   ]
  },
  {
   "cell_type": "markdown",
   "metadata": {},
   "source": [
    "One can simply make a pandas dataframe out of these arrays and finally having all our collider data into the dataframe `df`:"
   ]
  },
  {
   "cell_type": "code",
   "execution_count": 7,
   "metadata": {},
   "outputs": [],
   "source": [
    "df = pd.DataFrame(ar_dict)"
   ]
  },
  {
   "cell_type": "markdown",
   "metadata": {},
   "source": [
    "A step needed in python 3 only is to convert the byte string `b'col_name'` into a normal string `'col_name'` for each column of the dataframe, using the `df.rename((columns=old_new_name_dict)`:"
   ]
  },
  {
   "cell_type": "code",
   "execution_count": 8,
   "metadata": {},
   "outputs": [],
   "source": [
    "new_cols = {c:c.decode(encoding=\"utf-8\") for c in df.columns.tolist()}\n",
    "df = df.rename(columns=new_cols)"
   ]
  },
  {
   "cell_type": "markdown",
   "metadata": {},
   "source": [
    "A quick invesigation of this dataframe can be the nember of events and a print out of two columns:"
   ]
  },
  {
   "cell_type": "code",
   "execution_count": 9,
   "metadata": {},
   "outputs": [
    {
     "name": "stdout",
     "output_type": "stream",
     "text": [
      "Number of events: 250000\n",
      "                                              jet_pt                   el_pt\n",
      "0                              [169695.5, 122250.03]  [55366.094, 38978.633]\n",
      "1         [92278.93, 70800.66, 69653.164, 27776.486]                      []\n",
      "2  [56349.285, 43751.82, 36588.938, 35095.082, 27...              [76494.64]\n",
      "3                             [59820.547, 41592.062]             [39917.418]\n",
      "4  [196711.52, 123898.07, 87307.625, 82197.49, 41...             [197385.73]\n"
     ]
    }
   ],
   "source": [
    "print('Number of events: {:.0f}'.format(len(df)))\n",
    "print(df[['jet_pt', 'el_pt']].head())"
   ]
  },
  {
   "cell_type": "markdown",
   "metadata": {},
   "source": [
    "## Variable-size arrays and \"squared\" arrays\n",
    "\n",
    "Pandas is very nice and powerful for flat numbers (*i.e.* no arrays), while in collider physics we have various collections of physics objects (of various size) for each events. This means two things:\n",
    "   1. it's very common to have arrays per event and not only numbers\n",
    "   2. the size of the array will change from an event to another (*jagged arrays*).\n",
    "   \n",
    "Doing pure python is not a problem with jagged arrays but it's impossible to benefit from `numpy` vectorization since this requires well defined shape. In practice, the numpy array obtained by `df.values` is a **1D-array of arrays, and *not* a n-dimenional array**:"
   ]
  },
  {
   "cell_type": "code",
   "execution_count": 10,
   "metadata": {},
   "outputs": [
    {
     "name": "stdout",
     "output_type": "stream",
     "text": [
      "shape: (250000,)\n",
      "2 first events: \n",
      "[array([169695.5 , 122250.03], dtype=float32)\n",
      " array([92278.93 , 70800.66 , 69653.164, 27776.486], dtype=float32)]\n"
     ]
    }
   ],
   "source": [
    "jet_pt_df = df['jet_pt'].values\n",
    "print('shape: {}'.format(jet_pt_df.shape))\n",
    "print('2 first events: \\n{}'.format(jet_pt_df[0:2]))"
   ]
  },
  {
   "cell_type": "markdown",
   "metadata": {},
   "source": [
    "### Squaring arrays"
   ]
  },
  {
   "cell_type": "markdown",
   "metadata": {},
   "source": [
    "In order to work around this issue, one can \"square jagged arrays\" by setting the variable size to the maximum number of objects among all events, and fill empty values with a dummy value (to be carefully chosen depending on your computation). Several other operations which are rather standard in HEP (and probably in any highly dimensional data) are also implemented in a pure vectorized way in the module `np_utils.py`:"
   ]
  },
  {
   "cell_type": "code",
   "execution_count": 11,
   "metadata": {},
   "outputs": [],
   "source": [
    "import np_utils as npu"
   ]
  },
  {
   "cell_type": "markdown",
   "metadata": {},
   "source": [
    "The squaring of arrays is done by the function `square_jagged_2Darray(a,val=value,nobj=Nmax)`, of which the `docstring` is printed below showing what can be done:"
   ]
  },
  {
   "cell_type": "code",
   "execution_count": 12,
   "metadata": {},
   "outputs": [
    {
     "name": "stdout",
     "output_type": "stream",
     "text": [
      "Help on function square_jagged_2Darray in module np_utils:\n",
      "\n",
      "square_jagged_2Darray(a, **kwargs)\n",
      "    Give the same dimension to all raws of a jagged 2D array.\n",
      "    \n",
      "    This function equalizes the the size of every raw (obj collection)\n",
      "    using a default value 'val' (nan if nothing specifed) using either\n",
      "    the maximum size of object collection among all column (events) or\n",
      "    using a maximum size 'size'. The goal of this function is to fully\n",
      "    use numpy vectorization which works only on fixed size arrays.\n",
      "    \n",
      "    Parameters\n",
      "    ----------\n",
      "    a: array of arrays with different sizes this is the jagged 2D\n",
      "    array to be squared\n",
      "    \n",
      "    keyword arguments\n",
      "    -----------------\n",
      "    dtype: string\n",
      "        data type of the variable-size array. If not specified,\n",
      "        it is 'float32'. None means dt=data.dt.\n",
      "    nobj: int\n",
      "        max size of the array.shape[1]. if not specified (or None),\n",
      "        this size is the maximum size of all raws.\n",
      "    val: float32\n",
      "        default value used to fill empty elements in order to get\n",
      "        the proper size. If not specified (or None), val is np.nan.\n",
      "    \n",
      "    Returns\n",
      "    -------\n",
      "    out: np.ndarray\n",
      "        with a dimension (ncol,nobj).\n",
      "    \n",
      "    Examples\n",
      "    --------\n",
      "    >>> import numpy as np\n",
      "    >>> a=np.array([\n",
      "        [1,2,3,4,5],\n",
      "        [6,7],\n",
      "        [8],\n",
      "        [9,10,11,12,13]\n",
      "    ])\n",
      "    >>>\n",
      "    >>> square_jagged_2Darray(a)\n",
      "    array([[  1.,   2.,   3.,   4.,   5.],\n",
      "       [  6.,   7.,  nan,  nan,  nan],\n",
      "       [  8.,  nan,  nan,  nan,  nan],\n",
      "       [  9.,  10.,  11.,  12.,  13.]], dtype=float32)\n",
      "    >>>\n",
      "    >>> square_jagged_2Darray(a,nobj=2,val=-999)\n",
      "    >>> array([[   1.,    2.],\n",
      "       [   6.,    7.],\n",
      "       [   8., -999.],\n",
      "       [   9.,   10.]], dtype=float32)\n",
      "\n"
     ]
    }
   ],
   "source": [
    "help(npu.square_jagged_2Darray)"
   ]
  },
  {
   "cell_type": "markdown",
   "metadata": {},
   "source": [
    "One can test this function on the jet $p_T$ array for the three first event, for different formating of the array. First, we can use only the `val` argument to specify the default value used to fill the \"missing jets\":"
   ]
  },
  {
   "cell_type": "code",
   "execution_count": 13,
   "metadata": {},
   "outputs": [
    {
     "name": "stdout",
     "output_type": "stream",
     "text": [
      "shape: (250000, 11)\n",
      "2 first events: \n",
      "[[169695.5   122250.03       0.         0.         0.         0.\n",
      "       0.         0.         0.         0.         0.   ]\n",
      " [ 92278.93   70800.66   69653.164  27776.486      0.         0.\n",
      "       0.         0.         0.         0.         0.   ]]\n"
     ]
    }
   ],
   "source": [
    "jet_pt_np = npu.square_jagged_2Darray(jet_pt_df, val=0.0)\n",
    "print('shape: {}'.format(jet_pt_np.shape))\n",
    "print('2 first events: \\n{}'.format(jet_pt_np[0:2]))"
   ]
  },
  {
   "cell_type": "markdown",
   "metadata": {},
   "source": [
    "If the maximum size is expected to be really large (*e.g.* only one event has 53 jets and the next highest value is only 8), one can specify the maximum number of object to take with `nobj` argument: "
   ]
  },
  {
   "cell_type": "code",
   "execution_count": 14,
   "metadata": {},
   "outputs": [
    {
     "name": "stdout",
     "output_type": "stream",
     "text": [
      "shape: (250000, 3)\n",
      "2 first events: \n",
      "[[169695.5   122250.03    -999.   ]\n",
      " [ 92278.93   70800.66   69653.164]]\n"
     ]
    }
   ],
   "source": [
    "jet_pt_np_max3 = npu.square_jagged_2Darray(jet_pt_df, val=-999, nobj=3)\n",
    "print('shape: {}'.format(jet_pt_np_max3.shape))\n",
    "print('2 first events: \\n{}'.format(jet_pt_np_max3[0:2]))"
   ]
  },
  {
   "cell_type": "markdown",
   "metadata": {},
   "source": [
    "### Timing and impact of vectorialization\n",
    "\n",
    "Squaring array if obviously longer than taking the direct data from the dataframe, and limiting the number of objects doesn't change the picture (as explained later):"
   ]
  },
  {
   "cell_type": "code",
   "execution_count": 15,
   "metadata": {},
   "outputs": [
    {
     "name": "stdout",
     "output_type": "stream",
     "text": [
      "2.4 µs ± 61.9 ns per loop (mean ± std. dev. of 7 runs, 100000 loops each)\n",
      "131 ms ± 2.22 ms per loop (mean ± std. dev. of 7 runs, 10 loops each)\n",
      "130 ms ± 1.46 ms per loop (mean ± std. dev. of 7 runs, 10 loops each)\n"
     ]
    }
   ],
   "source": [
    "# Getting the array directly\n",
    "%timeit df['jet_pt'].values\n",
    "\n",
    "# Squaring the array with a default value of 0\n",
    "%timeit npu.square_jagged_2Darray(jet_pt_df, val=0)\n",
    "\n",
    "# # Squaring the array with max 3 objects and a default value of -999\n",
    "%timeit npu.square_jagged_2Darray(jet_pt_df, val=-999, nobj=3)"
   ]
  },
  {
   "cell_type": "markdown",
   "metadata": {},
   "source": [
    "It can be seen that the `square_jagged_2Darray()` is longer than directly taking the numpy array (and the reason will be explained just below). However, once it's done, one can perform operation much faster. By compare the computation time for a simple operation like counting the number of jets with a $p_T\\geq 50$ GeV using both the squared array and a comprehensive loop on the original array from `df`, we see a factor *~500 faster* with squared array:"
   ]
  },
  {
   "cell_type": "code",
   "execution_count": 16,
   "metadata": {},
   "outputs": [
    {
     "name": "stdout",
     "output_type": "stream",
     "text": [
      "631 ms ± 7.38 ms per loop (mean ± std. dev. of 7 runs, 1 loop each)\n",
      "1.16 ms ± 62.6 µs per loop (mean ± std. dev. of 7 runs, 1000 loops each)\n"
     ]
    }
   ],
   "source": [
    "# Comprehensive loop for Njets with pT>50 GeV\n",
    "%timeit Njets=[np.count_nonzero(j>50e3) for j in jet_pt_df]\n",
    "\n",
    "# Squared array for Njets with pT>50 GeV\n",
    "%timeit Njets=np.count_nonzero(jet_pt_np>50e3)"
   ]
  },
  {
   "cell_type": "markdown",
   "metadata": {},
   "source": [
    "### Detail of `square_jagged_2Darray()` function\n",
    "\n",
    "Now, we want to analyze how this function works and understand where the long execution time comes from. There are mostly two long steps: scanning to find the max of object numbers, and the concatenation of all individual arrays. At the end, loading the squared numpy array takes 0.2 seconds for 250 kEvents. The timing and the details of operation is shown below:"
   ]
  },
  {
   "cell_type": "markdown",
   "metadata": {},
   "source": [
    "1. Getting all the sub-array length"
   ]
  },
  {
   "cell_type": "code",
   "execution_count": 17,
   "metadata": {},
   "outputs": [
    {
     "name": "stdout",
     "output_type": "stream",
     "text": [
      "34.9 ms ± 491 µs per loop (mean ± std. dev. of 7 runs, 10 loops each)\n",
      "lens:[2 4 5]\n"
     ]
    }
   ],
   "source": [
    "%timeit lens = np.array([len(i) for i in jet_pt_df])\n",
    "lens = np.array([len(i) for i in jet_pt_df])\n",
    "print('lens:{}'.format(lens[:3]))"
   ]
  },
  {
   "cell_type": "markdown",
   "metadata": {},
   "source": [
    "2. Create a mask (boolean array) to know which value should be filled, using broadcasting and `np.newaxis` to combine a  `lens.shape = (250000,)` and `np.arange(lens.max()) = (11,)`:"
   ]
  },
  {
   "cell_type": "code",
   "execution_count": 18,
   "metadata": {},
   "outputs": [
    {
     "name": "stdout",
     "output_type": "stream",
     "text": [
      "6.11 ms ± 150 µs per loop (mean ± std. dev. of 7 runs, 100 loops each)\n",
      "mask:\n",
      " [[ True  True False False False False False False False False False]\n",
      " [ True  True  True  True False False False False False False False]\n",
      " [ True  True  True  True  True False False False False False False]]\n"
     ]
    }
   ],
   "source": [
    "%timeit mask = lens[:, np.newaxis] > np.arange(lens.max())\n",
    "mask = lens[:, np.newaxis] > np.arange(lens.max())\n",
    "print('mask:\\n {}'.format(mask[:3]))"
   ]
  },
  {
   "cell_type": "markdown",
   "metadata": {},
   "source": [
    "3. Initialize the final squared array with the proper size:"
   ]
  },
  {
   "cell_type": "code",
   "execution_count": 19,
   "metadata": {},
   "outputs": [
    {
     "name": "stdout",
     "output_type": "stream",
     "text": [
      "1.42 ms ± 16.5 µs per loop (mean ± std. dev. of 7 runs, 1000 loops each)\n",
      "out:\n",
      " [[0. 0. 0. 0. 0. 0. 0. 0. 0. 0. 0.]\n",
      " [0. 0. 0. 0. 0. 0. 0. 0. 0. 0. 0.]\n",
      " [0. 0. 0. 0. 0. 0. 0. 0. 0. 0. 0.]]\n"
     ]
    }
   ],
   "source": [
    "%timeit out = np.zeros(mask.shape, dtype='float32')\n",
    "out = np.zeros(mask.shape, dtype='float32')\n",
    "print('out:\\n {}'.format(out[:3]))"
   ]
  },
  {
   "cell_type": "markdown",
   "metadata": {},
   "source": [
    "4. Fill the default values everywhere:"
   ]
  },
  {
   "cell_type": "code",
   "execution_count": 20,
   "metadata": {},
   "outputs": [
    {
     "name": "stdout",
     "output_type": "stream",
     "text": [
      "1.16 ms ± 23.8 µs per loop (mean ± std. dev. of 7 runs, 1000 loops each)\n",
      "out:\n",
      " [[999. 999. 999. 999. 999. 999. 999. 999. 999. 999. 999.]\n",
      " [999. 999. 999. 999. 999. 999. 999. 999. 999. 999. 999.]\n",
      " [999. 999. 999. 999. 999. 999. 999. 999. 999. 999. 999.]]\n"
     ]
    }
   ],
   "source": [
    "%timeit out.fill(999)\n",
    "out.fill(999)\n",
    "print('out:\\n {}'.format(out[0:3]))"
   ]
  },
  {
   "cell_type": "markdown",
   "metadata": {},
   "source": [
    "5. Overwrite the values where a jet exist (1D array `out[mask]`) with all the jet $p_T$ (1D array `np.concatenate(jet_pt_df)`):"
   ]
  },
  {
   "cell_type": "code",
   "execution_count": 21,
   "metadata": {},
   "outputs": [
    {
     "name": "stdout",
     "output_type": "stream",
     "text": [
      "60.3 ms ± 654 µs per loop (mean ± std. dev. of 7 runs, 10 loops each)\n",
      "out:\n",
      " [[169695.5   122250.03     999.       999.       999.       999.\n",
      "     999.       999.       999.       999.       999.   ]\n",
      " [ 92278.93   70800.66   69653.164  27776.486    999.       999.\n",
      "     999.       999.       999.       999.       999.   ]\n",
      " [ 56349.285  43751.82   36588.938  35095.082  27441.059    999.\n",
      "     999.       999.       999.       999.       999.   ]]\n"
     ]
    }
   ],
   "source": [
    "%timeit out[mask] = np.concatenate(jet_pt_df)\n",
    "out[mask] = np.concatenate(jet_pt_df)\n",
    "print(('out:\\n {}'.format(out[0:3])))"
   ]
  },
  {
   "cell_type": "markdown",
   "metadata": {},
   "source": [
    "Another function called `df2array()` allows to load several columns (with the same maximum size) into a given nd array. This is needed if one wants to make computations based on all those columns. The best example is the $dR$ variable which involves both $\\eta$ and $\\phi$. These two variables can be grouped in a big numpy array of dimension `(Nevts, Njets, 2)`, where 2 corresponds to the number of variables. This function is internally call the np.stack() method (on top of some checks):\n",
    "```python\n",
    "jets_kin = npu.df2array(df,['jet_pt', 'jet_eta', 'jet_phi'])\n",
    "```\n",
    "is equivalent to \n",
    "```python\n",
    "jets_pt  = npu.square_jagged_2Darray(df['jet_pt'].values)\n",
    "jets_eta = npu.square_jagged_2Darray(df['jet_eta'].values)\n",
    "jets_phi = npu.square_jagged_2Darray(df['jet_phi'].values)\n",
    "jets_kin = np.concatenate([jets_pt, jets_eta, jets_phi], axis=2)\n",
    "```\n",
    "\n",
    "What follows illustrate this function with 3 examples running over 1000 events only, each time printing the shape of the array:"
   ]
  },
  {
   "cell_type": "code",
   "execution_count": 22,
   "metadata": {},
   "outputs": [
    {
     "name": "stdout",
     "output_type": "stream",
     "text": [
      "(1000, 8, 3)\n",
      "(1000, 8, 2)\n",
      "(1000, 8, 5)\n"
     ]
    }
   ],
   "source": [
    "jets_kin = npu.df2array(df[0:1000], ['jet_pt', 'jet_eta', 'jet_phi'])\n",
    "print(jets_kin.shape)\n",
    "\n",
    "jets_btg = npu.df2array(df[0:1000], ['jet_mv2c10', 'jet_isbtagged_77'])\n",
    "print(jets_btg.shape)\n",
    "\n",
    "jets = npu.df2array(df[0:1000], ['jet_pt', 'jet_eta',\n",
    "                                 'jet_phi', 'jet_mv2c10', 'jet_isbtagged_77'])\n",
    "print(jets.shape)"
   ]
  },
  {
   "cell_type": "markdown",
   "metadata": {},
   "source": [
    "## Producing some non-trivial plots using numpy arrays\n",
    "\n",
    "\n",
    "Everything which is based on flat number can be directly done pandas columns directly, *e.g.* the following code will be similarly efficient as with a `TTree->Draw()` command.\n",
    "```python\n",
    "plt.figure(figsize=(10,7))\n",
    "ax=plt.hist(df['mu'])\n",
    "```\n",
    "\n",
    "But the more tricky part is what to do with python to make some more complex computations **without doing an explicit event loop**? The next sub-sections give some examples."
   ]
  },
  {
   "cell_type": "code",
   "execution_count": 23,
   "metadata": {},
   "outputs": [
    {
     "data": {
      "image/png": "[encoded data removed]",
      "text/plain": [
       "<Figure size 720x504 with 1 Axes>"
      ]
     },
     "metadata": {
      "needs_background": "light"
     },
     "output_type": "display_data"
    }
   ],
   "source": [
    "plt.figure(figsize=(10, 7))\n",
    "plt.hist(df['mu'], alpha=0.5);"
   ]
  },
  {
   "cell_type": "markdown",
   "metadata": {},
   "source": [
    "### Jet multiplicity for different $p_T$ thresholds\n",
    "\n",
    "Looking at the jet multiplicity depending on the $p_T$ threshold: \n",
    "\n",
    "   + `jets[...:0]` means that all dimention but the last one is inclusive (here it means all events and all jets for each events), while the 0 means first variable (*i.e.* the $p_T$ since it comes first in the command `df2array(df, ['jet_pt', 'jet_eta', 'jet_phi', 'jet_mv2c10', 'jet_isbtagged_77'])`);\n",
    "   + `jets[...,0]>pt` is a 2D arrays filled of shape (Nevts,Njets) with `True` and `False` depending on wether the element is above `pt` or not;\n",
    "   + `np.count_nonzero(jets[...,0]>pt, axis=1)` is 1D array of shape (Nevts) which counts the number of `True` along the Njets axis (so per event)."
   ]
  },
  {
   "cell_type": "code",
   "execution_count": 24,
   "metadata": {},
   "outputs": [],
   "source": [
    "jets = npu.df2array(df, ['jet_pt', 'jet_eta', 'jet_phi',\n",
    "                         'jet_mv2c10', 'jet_isbtagged_77'])"
   ]
  },
  {
   "cell_type": "code",
   "execution_count": 26,
   "metadata": {
    "scrolled": false
   },
   "outputs": [
    {
     "data": {
      "image/png": "[encoded data removed]",
      "text/plain": [
       "<Figure size 720x504 with 1 Axes>"
      ]
     },
     "metadata": {
      "needs_background": "light"
     },
     "output_type": "display_data"
    }
   ],
   "source": [
    "plt.figure(figsize=(10, 7))\n",
    "\n",
    "plot_style = {\n",
    "              'alpha': 0.8, \n",
    "              'histtype': 'step', \n",
    "              'linewidth': 3,\n",
    "              'bins': np.linspace(0, 15, 15), \n",
    "              'log': True\n",
    "             }\n",
    "\n",
    "for pt in np.linspace(25, 100, 4)*1000:\n",
    "    plt.hist(np.count_nonzero(jets[..., 0] > pt, axis=1),\n",
    "             label='$p_T>{:.0f}$ GeV'.format(pt/1000.), \n",
    "             **plot_style)\n",
    "plt.legend()\n",
    "plt.xlabel('$N_{jets}(p_T>X)$')\n",
    "plt.ylabel('Event count');"
   ]
  },
  {
   "cell_type": "markdown",
   "metadata": {},
   "source": [
    "### Jet $p_T$ distribution for every jets in the event\n",
    "\n",
    "This is also very easy to look at the $p_T$ distributions of the leading, sub-leading, ... jets. For this, one first needs to replace all `nan` (not a number) by a appropriate default value (0 for instance), otherwise the plotting step will crash (cannot plot `nan`). Then a loop over all the jets is performed (the number of jets is the size of the dimension 2, *i.e.* `shape[1]`)."
   ]
  },
  {
   "cell_type": "code",
   "execution_count": 28,
   "metadata": {},
   "outputs": [
    {
     "data": {
      "image/png": "[encoded data removed]",
      "text/plain": [
       "<Figure size 720x504 with 1 Axes>"
      ]
     },
     "metadata": {
      "needs_background": "light"
     },
     "output_type": "display_data"
    }
   ],
   "source": [
    "jets_pt_plots = npu.replace_nan(jets[..., 0], value=0)\n",
    "\n",
    "fig = plt.figure(figsize=(10, 7))\n",
    "plot_style = {\n",
    "              'alpha': 0.3, \n",
    "              'linewidth': 3,\n",
    "              'bins': np.linspace(25, 2000, 100), \n",
    "              'log': True,\n",
    "             }\n",
    "\n",
    "Njets = jets_pt_plots.shape[1]\n",
    "for i in np.arange(Njets):\n",
    "    plt.hist(jets_pt_plots[:, i]/1000., label='jet {}'.format(i+1),\n",
    "             **plot_style)\n",
    "plt.legend()\n",
    "plt.xlabel('$p^{jets}_T$ [GeV]')\n",
    "plt.ylabel('Unweighted events');"
   ]
  },
  {
   "cell_type": "markdown",
   "metadata": {},
   "source": [
    "### *Apparte:* reminder of the difference between `a*(a>x)` and `a[a>x]`\n",
    "\n",
    "First of all `a>x` is an array filled with `True` or `False` depending on whether the condition is true or false (in numpy, it is called a *mask*). What do the two diffent commands is:\n",
    "\n",
    "   + `a[a>x]` return all elements of a which pass the condition. In practice, it removes the other elements from the array. **This is always a 1D array**.\n",
    "   + `a*(a>x)` return the product of `a` and `a>x` converted into a `int` (so 0 or 1). In practice, it replaces the values not passing the condition by by `False` or `0`. \n",
    "   + if `a` is multi-dimentional, `a[a>x]` will be a flat (1D) array. This is unavoidable since the output would be a jagged array. Indeed, for a 2D array, the number of elements per line might depends on the line.\n",
    "\n",
    "This is illustrated with examples below for both 1D and 2D arrays."
   ]
  },
  {
   "cell_type": "code",
   "execution_count": 29,
   "metadata": {},
   "outputs": [
    {
     "name": "stdout",
     "output_type": "stream",
     "text": [
      "a       = [ 0  1  2  3  4  5  6  7  8  9 10 11]\n",
      "a>4     = [False False False False False  True  True  True  True  True  True  True]\n",
      "a*(a>4) = [ 0  0  0  0  0  5  6  7  8  9 10 11]\n",
      "a[a>4]  = [ 5  6  7  8  9 10 11]\n"
     ]
    }
   ],
   "source": [
    "# 1D arrays\n",
    "a = np.arange(12)\n",
    "print('a       = {}'.format(a))\n",
    "print('a>4     = {}'.format(a > 4))\n",
    "print('a*(a>4) = {}'.format(a*(a > 4)))\n",
    "print('a[a>4]  = {}'.format(a[a > 4]))"
   ]
  },
  {
   "cell_type": "code",
   "execution_count": 30,
   "metadata": {},
   "outputs": [
    {
     "name": "stdout",
     "output_type": "stream",
     "text": [
      "a       = [[ 0  1]\n",
      " [ 2  3]\n",
      " [ 4  5]\n",
      " [ 6  7]\n",
      " [ 8  9]\n",
      " [10 11]]\n",
      "a>4     = [[False False]\n",
      " [False False]\n",
      " [False  True]\n",
      " [ True  True]\n",
      " [ True  True]\n",
      " [ True  True]]\n",
      "a*(a>4) = [[ 0  0]\n",
      " [ 0  0]\n",
      " [ 0  5]\n",
      " [ 6  7]\n",
      " [ 8  9]\n",
      " [10 11]]\n",
      "a[a>4]  = [ 5  6  7  8  9 10 11]\n"
     ]
    }
   ],
   "source": [
    "# 2D arrays\n",
    "a = np.arange(12).reshape(6, 2)\n",
    "print('a       = {}'.format(a))\n",
    "print('a>4     = {}'.format(a > 4))\n",
    "print('a*(a>4) = {}'.format(a*(a > 4)))\n",
    "print('a[a>4]  = {}'.format(a[a > 4]))"
   ]
  },
  {
   "cell_type": "markdown",
   "metadata": {},
   "source": [
    "### $H_T$ distribution in different configurations\n",
    "\n",
    "One can also recompute observables using only objects passing certain selections (this is not so easy to do with `TTree->Draw()` commands). Let's take the example of $H_T$ defined as the scalar sum of $p_T$ over the jets (probing the \"hardness\" of the collision):\n",
    "\n",
    "   + Usual case: `jet_pt_ht` is the $p_T$ array with a shape (Nevt,Njets), so sum over axis=1 will give the $H_T$ array with shape (Nevts). `HTjets[HTjets>0]` means removing events with $H_T=0$ (if not jets at all for example);\n",
    "   \n",
    "   + Compte $H_T$ only with central jets: `jet_pt_ht*(np.abs(jet_eta)<1.0)` is an array containing only $p_T$ of jets with $|\\eta|<1.0$, then the logic remains the same;\n",
    "   \n",
    "   + Compte $H_T$ only with b-tagged jets: `jet_pt_ht*(jet_btagw>0.67)` is an array containing only $p_T$ of jets with $w_{b}>0.67$."
   ]
  },
  {
   "cell_type": "code",
   "execution_count": 31,
   "metadata": {},
   "outputs": [],
   "source": [
    "jet_pt_ht = npu.replace_nan(jets[..., 0], value=0)/1000.\n",
    "jet_eta = jets[..., 1]\n",
    "jet_btagw = jets[..., 3]"
   ]
  },
  {
   "cell_type": "code",
   "execution_count": 33,
   "metadata": {
    "scrolled": false
   },
   "outputs": [
    {
     "data": {
      "image/png": "[encoded data removed]",
      "text/plain": [
       "<Figure size 720x504 with 1 Axes>"
      ]
     },
     "metadata": {
      "needs_background": "light"
     },
     "output_type": "display_data"
    }
   ],
   "source": [
    "fig = plt.figure(figsize=(10, 7))\n",
    "\n",
    "# Compute usual HT jets\n",
    "HTjets = np.sum(jet_pt_ht, axis=1)\n",
    "plt.hist(HTjets[HTjets > 0], alpha=0.5, \n",
    "         bins=np.linspace(0, 2000, 100), label='$|eta|<2.5$', log=True)\n",
    "\n",
    "# Compute HT only with central jets\n",
    "central_jet_pt_ht = jet_pt_ht*(np.abs(jet_eta) < 1.0)\n",
    "HTjets_central = np.sum(central_jet_pt_ht, axis=1)\n",
    "plt.hist(HTjets_central[HTjets_central > 0], alpha=0.5, \n",
    "         bins=np.linspace(0, 2000, 100), label='$|eta|<1$', log=True)\n",
    "\n",
    "# Compute HT only with b-jets\n",
    "bjets_pt_ht = jet_pt_ht*(jet_btagw > 0.67)\n",
    "HTbjets = np.sum(bjets_pt_ht, axis=1)\n",
    "plt.hist(HTbjets[HTbjets > 0], alpha=0.5, \n",
    "         bins=np.linspace(0, 2000, 100), label='b-jets', log=True)\n",
    "\n",
    "plt.title('All jets vs central jets $|\\eta|<1$')\n",
    "plt.xlabel('$H_T$ [GeV]')\n",
    "plt.ylabel('Unweighted events')\n",
    "plt.legend(title='$t\\\\bar{t}$');"
   ]
  },
  {
   "cell_type": "markdown",
   "metadata": {},
   "source": [
    "## Perform event-by-event computations without explicit loop\n",
    "\n",
    "There are many obvious use cases of doing these typical calculations: \n",
    "  + identify the jet which is the closest of a given lepton (minimum $\\Delta R$ computation)\n",
    "  + compute invariant mass between all possible electrons and find the combination corresponding to a $Z$ decay\n",
    "  + find the jet pair which best match a hadronic $W$ decay\n",
    "\n",
    "In principle, the same methodology could be applied to combination having more than 2 objects (rough decay reconstruction). But this can be quite long to compute - depending on the number of events - because we have to deal with large number of objects (the max one, in order to get fixed-size array). One option though, is to limit the number of object participating to the combination, by taking for example the 5th first leading $p_T$ jets. In our current example, this would reduce the number of jets from 11 to 5 (in term of N(N-1)/2 combinations: 55 to 10).\n",
    "\n",
    "\n",
    "### Getting all possible pairs of jets"
   ]
  },
  {
   "cell_type": "code",
   "execution_count": 34,
   "metadata": {
    "scrolled": false
   },
   "outputs": [
    {
     "name": "stdout",
     "output_type": "stream",
     "text": [
      "(250000, 55, 2, 5)\n"
     ]
    }
   ],
   "source": [
    "jet_pairs = npu.all_pairs_nd(jets)\n",
    "print(jet_pairs.shape)"
   ]
  },
  {
   "cell_type": "markdown",
   "metadata": {},
   "source": [
    "### How to select only events with at least two objects?\n",
    "\n",
    "In the case of making pairs of the two same objects, one needs to make sure there are at least two! Let's take the example of jets:\n",
    "   \n",
    "   1. we need to compute the number of jets, *i.e.* the number of not `nan` per event (since empty elements are set to `nan`), which can be done for any variable (here $p_T$):\n",
    "   ```python\n",
    "   nj=npu.count_nonnan(jets[...,0],axis=1)\n",
    "   ```\n",
    "   \n",
    "   2. Select all jets and all variables for events with `nj>1`:\n",
    "   ```python\n",
    "   jets_atl2 = jets[nj>1,...]\n",
    "   ```"
   ]
  },
  {
   "cell_type": "code",
   "execution_count": 35,
   "metadata": {},
   "outputs": [
    {
     "name": "stdout",
     "output_type": "stream",
     "text": [
      "There are 4803 events without any jets\n",
      "(250000,)\n",
      "(245197, 11, 5)\n"
     ]
    }
   ],
   "source": [
    "nj=npu.count_nonnan(jets[...,0],axis=1)\n",
    "print('There are {} events without any jets'.format(np.count_nonzero(nj==0)))\n",
    "is_0j = nj==0\n",
    "print(is_0j.shape)\n",
    "jets_atl2 = jets[~is_0j]\n",
    "print(jets_atl2.shape)"
   ]
  },
  {
   "cell_type": "markdown",
   "metadata": {},
   "source": [
    "### Compute pair-related observables\n",
    "\n",
    "Once the pairs are formed, we can do any computation with it. For convenience, you can make two variables being the first jet `j1` and the second jet `j2` of the pair. Those will be array of shape (Nevt,Npair,Nvar):"
   ]
  },
  {
   "cell_type": "code",
   "execution_count": 36,
   "metadata": {},
   "outputs": [
    {
     "name": "stdout",
     "output_type": "stream",
     "text": [
      "(250000, 55, 5) (250000, 55, 5)\n"
     ]
    }
   ],
   "source": [
    "j1, j2 = jet_pairs[:, :, 0, :], jet_pairs[:, :, 1, :]\n",
    "print(j1.shape, j2.shape)"
   ]
  },
  {
   "cell_type": "markdown",
   "metadata": {},
   "source": [
    "#### Minimum $\\Delta R(j,j)$\n",
    "We can then take the sum, the difference, the invariant mass or anthing else based on `j1` and `j2`. Below, we form the array of $(\\Delta\\eta,\\Delta\\phi)$ for each pair, having a shape (Nevt,Npair,2):"
   ]
  },
  {
   "cell_type": "code",
   "execution_count": 37,
   "metadata": {},
   "outputs": [
    {
     "name": "stdout",
     "output_type": "stream",
     "text": [
      "(250000, 55, 2) [[-1.8726265e+00 -1.7299445e+00]\n",
      " [ 2.3154519e+00  2.0041623e+00]\n",
      " [-7.2516710e-01  2.3405614e+00]\n",
      " [-1.8223300e+00  2.6417046e+00]\n",
      " [ 9.9900000e+02  9.9900000e+02]]\n"
     ]
    }
   ],
   "source": [
    "# keep only eta,phi to compute dR=sqrt(deta^2+dphi^2)\n",
    "dj_etaphi = j1[..., 1:3] - j2[..., 1:3]\n",
    "\n",
    "# remove nan by a relevant default values (outside plots)\n",
    "dj_etaphi = npu.replace_nan(dj_etaphi, value=999)\n",
    "\n",
    "# print the 5th first pair of the 3rd event\n",
    "print(dj_etaphi.shape, dj_etaphi[2, 0:5])"
   ]
  },
  {
   "cell_type": "code",
   "execution_count": 38,
   "metadata": {},
   "outputs": [
    {
     "name": "stdout",
     "output_type": "stream",
     "text": [
      "(250000, 55) [   3.5524466 1412.7993    1412.7993    1412.7993    1412.7993   ]\n",
      "(250000, 55) [  3.5524466 999.        999.        999.        999.       ]\n"
     ]
    }
   ],
   "source": [
    "dR = np.sum(dj_etaphi**2, axis=2)**0.5\n",
    "print(dR.shape, dR[0, 0:5])\n",
    "\n",
    "dR = npu.replace_val(dR, (2**0.5)*999., 999)\n",
    "print(dR.shape, dR[0, 0:5])"
   ]
  },
  {
   "cell_type": "code",
   "execution_count": 40,
   "metadata": {},
   "outputs": [
    {
     "data": {
      "image/png": "[encoded data removed]",
      "text/plain": [
       "<Figure size 720x504 with 1 Axes>"
      ]
     },
     "metadata": {
      "needs_background": "light"
     },
     "output_type": "display_data"
    }
   ],
   "source": [
    "fig = plt.figure(figsize=(10, 7))\n",
    "plt.hist(dR.flatten(), bins=np.linspace(\n",
    "    0, 8, 100), alpha=0.5, label='All jet pairs')\n",
    "plt.hist(np.min(dR, axis=1), bins=np.linspace(\n",
    "    0, 8, 100), alpha=0.5, label='Minimal $\\Delta R$')\n",
    "plt.xlabel('$\\Delta R(j,j$)')\n",
    "plt.ylabel('Unweighted events')\n",
    "plt.legend();"
   ]
  },
  {
   "cell_type": "markdown",
   "metadata": {},
   "source": [
    "#### Minimum $\\Delta R(j,e)$"
   ]
  },
  {
   "cell_type": "code",
   "execution_count": 41,
   "metadata": {},
   "outputs": [],
   "source": [
    "jet_direction = jets[:, :, 1:3]\n",
    "ele_direction = npu.df2array(df, ['el_eta', 'el_phi'])"
   ]
  },
  {
   "cell_type": "code",
   "execution_count": 42,
   "metadata": {},
   "outputs": [],
   "source": [
    "jet_ele_pairs_direction = npu.all_pairs_nd(jet_direction, ele_direction)"
   ]
  },
  {
   "cell_type": "code",
   "execution_count": 43,
   "metadata": {},
   "outputs": [],
   "source": [
    "dej = jet_ele_pairs_direction[:, :, 0, :]-jet_ele_pairs_direction[:, :, 1, :]\n",
    "dRej = npu.replace_nan(np.sum(dej**2, axis=2)**0.5, value=999)\n",
    "dRmin = np.min(dRej, axis=1)"
   ]
  },
  {
   "cell_type": "code",
   "execution_count": 44,
   "metadata": {
    "scrolled": false
   },
   "outputs": [
    {
     "data": {
      "image/png": "[encoded data removed]",
      "text/plain": [
       "<Figure size 720x504 with 1 Axes>"
      ]
     },
     "metadata": {
      "needs_background": "light"
     },
     "output_type": "display_data"
    }
   ],
   "source": [
    "fig = plt.figure(figsize=(10, 7))\n",
    "style = {\n",
    "    'bins': np.linspace(0, 8, 100),\n",
    "    'alpha': 0.5,\n",
    "    'density': True,\n",
    "    'log': True,\n",
    "}\n",
    "plt.hist(dRej.flatten(), label='All jet-electron pairs', **style)\n",
    "plt.hist(dRmin, label='Minimal $\\Delta R$', **style)\n",
    "plt.xlabel('$\\Delta R(j,e)$')\n",
    "plt.ylabel('Unweighted events')\n",
    "plt.legend();"
   ]
  },
  {
   "cell_type": "markdown",
   "metadata": {
    "scrolled": true
   },
   "source": [
    "### Di-jet invariant masses\n",
    "\n",
    "Let's take the example of the invariant mass betwee `j1` and `j2`:\n",
    "\n",
    "$$\n",
    "m^2 = {p^2_{T}}_{1} {p^2_{T}}_{2} \\left( \\cosh(\\eta_1-\\eta_2) - \\cos(\\phi_1-\\phi_2) \\right) \n",
    "$$"
   ]
  },
  {
   "cell_type": "code",
   "execution_count": 45,
   "metadata": {},
   "outputs": [
    {
     "name": "stdout",
     "output_type": "stream",
     "text": [
      "(250000, 55) (250000, 55)\n"
     ]
    }
   ],
   "source": [
    "deta, dphi = dj_etaphi[..., 0], dj_etaphi[..., 1]\n",
    "pt1, pt2 = j1[..., 0], j2[..., 0]\n",
    "print(pt1.shape, deta.shape)"
   ]
  },
  {
   "cell_type": "code",
   "execution_count": 46,
   "metadata": {
    "scrolled": true
   },
   "outputs": [
    {
     "name": "stdout",
     "output_type": "stream",
     "text": [
      "(250000, 55)\n"
     ]
    }
   ],
   "source": [
    "m = np.sqrt(pt1*pt2 * (np.cosh(deta)-np.cos(dphi))) / 1000.\n",
    "m = npu.replace_nan(m, 1e10)\n",
    "print(m.shape)"
   ]
  },
  {
   "cell_type": "code",
   "execution_count": 47,
   "metadata": {},
   "outputs": [
    {
     "data": {
      "image/png": "[encoded data removed]",
      "text/plain": [
       "<Figure size 720x504 with 1 Axes>"
      ]
     },
     "metadata": {
      "needs_background": "light"
     },
     "output_type": "display_data"
    }
   ],
   "source": [
    "fig = plt.figure(figsize=(10, 7))\n",
    "\n",
    "style = {\n",
    "    'bins': np.linspace(0, 500, 100),\n",
    "    'alpha': 0.8,\n",
    "    'density': True,\n",
    "    'log': False,\n",
    "    'histtype': 'step',\n",
    "    'linewidth': 3.0\n",
    "}\n",
    "\n",
    "plt.hist(m.flatten(), label='All pairs', **style)\n",
    "plt.hist(np.min(m, axis=1), label='Min $M(j,j)$', **style)\n",
    "plt.hist(np.max(npu.replace_val(m, 1e10, -1e10), axis=1),\n",
    "              label='Max M$(j,j)$', **style)\n",
    "plt.xlabel('$M(j,j)$ [GeV]')\n",
    "plt.ylabel('Unweighted events')\n",
    "plt.legend();"
   ]
  },
  {
   "cell_type": "markdown",
   "metadata": {},
   "source": [
    "## Build up a system with several collections of objects (e.g. electrons and jets)\n",
    "\n",
    "In particle physics, we often wan to group object together and compute observables related to the global system. For example, group all leptons together can be useful to reconstruct $W$ transverse mass regardeless of the lepton flavour of $W$-decay products. Another example could be to group together object with a similar signature in the dectector (*e.g.* deposit into the electromagnetic calorimeter). Typically: `lep={el+mu}` or `EMobj={jets+ele}`."
   ]
  },
  {
   "cell_type": "markdown",
   "metadata": {},
   "source": [
    "### Preamble: implementing default values like `df2array(df,['var1','var2','999'])`\n",
    "\n",
    "This would be useful to work around the constrain of having the same number of variable per object. For example, if one want to make all possible pairs of electrons and jets or simply group the collection together, we need to have the same dimension along the variable axis (*i.e.* axis=3). Of course, variables for jets might not exist for electrons (or the opposit). Concretely, the following code\n",
    "```python\n",
    "jets = df2array(df,['jet_pt', 'jet_eta', 'jet_phi', 'jet_mv2c10'])\n",
    "electrons = df2array(df,['el_pt', 'el_eta', 'el_phi'])\n",
    "ele_jets = all_pairs_nd(jets,electrons)\n",
    "```\n",
    "will not work and will return something like\n",
    "```\n",
    "NameError: The shape along all dimensions but the one of axis=1 should be equal, while here:\n",
    "  -> shape of a is (1000, 8,45) \n",
    "  -> shape of b is (1000, 3, 3) \n",
    "```\n",
    "\n",
    "The adopted possibility is to be able to set a default value just to have the proper number of variable for both object **and** remember that this is a dummy value, like\n",
    "```python\n",
    "jets = df2array(df,['jet_pt', 'jet_eta', 'jet_phi', 'jet_mv2c10'])\n",
    "electrons = df2array(df,['el_pt', 'el_eta', 'el_phi' , '-999'])\n",
    "ele_jets = all_pairs_nd(jets,electrons)\n",
    "```"
   ]
  },
  {
   "cell_type": "markdown",
   "metadata": {},
   "source": [
    "Since `jets` currently contains 5 variables, one needs to build up a collection of electrons with 5 variables. But the btagg weight is not defined for electron, se we put a dummy value (otherwise the stacking cannot work)."
   ]
  },
  {
   "cell_type": "code",
   "execution_count": 48,
   "metadata": {},
   "outputs": [
    {
     "name": "stdout",
     "output_type": "stream",
     "text": [
      "(250000, 11, 5)\n"
     ]
    }
   ],
   "source": [
    "print(jets.shape)"
   ]
  },
  {
   "cell_type": "code",
   "execution_count": 49,
   "metadata": {},
   "outputs": [],
   "source": [
    "eles = npu.df2array(df, ['el_pt', 'el_eta', 'el_phi', 'nan', 'nan'])"
   ]
  },
  {
   "cell_type": "code",
   "execution_count": 50,
   "metadata": {
    "scrolled": false
   },
   "outputs": [
    {
     "name": "stdout",
     "output_type": "stream",
     "text": [
      "(250000, 11, 5) (250000, 3, 5) (250000, 14, 5)\n"
     ]
    }
   ],
   "source": [
    "jets_eles = npu.stack_collections([jets, eles])\n",
    "print(jets.shape, eles.shape, jets_eles.shape)"
   ]
  },
  {
   "cell_type": "markdown",
   "metadata": {},
   "source": [
    "In order to compute a given observable, we can replace `nan` values that were set above by a proper one depending on the computation). To compute the sum $H_T$, `0` is a proper value (keep in mind that for more complex computation, *masked arrays* can be more approriate):"
   ]
  },
  {
   "cell_type": "code",
   "execution_count": 51,
   "metadata": {},
   "outputs": [
    {
     "name": "stdout",
     "output_type": "stream",
     "text": [
      "(250000,)\n"
     ]
    }
   ],
   "source": [
    "jet_el_pt = npu.replace_nan(jets_eles[:, :, 0])\n",
    "jet_el_HT = np.sum(jet_el_pt/1000., axis=1)\n",
    "print(jet_el_HT.shape)"
   ]
  },
  {
   "cell_type": "code",
   "execution_count": 52,
   "metadata": {},
   "outputs": [
    {
     "data": {
      "image/png": "[encoded data removed]",
      "text/plain": [
       "<Figure size 720x504 with 1 Axes>"
      ]
     },
     "metadata": {
      "needs_background": "light"
     },
     "output_type": "display_data"
    }
   ],
   "source": [
    "fig = plt.figure(figsize=(10, 7))\n",
    "plt.hist(jet_el_HT[jet_el_HT > 0], bins=np.linspace(0, 1000, 100), alpha=0.5)\n",
    "plt.xlabel('$\\sum_{e,j} \\; p_T$ [GeV]')\n",
    "plt.ylabel('Unweighted events');"
   ]
  },
  {
   "cell_type": "markdown",
   "metadata": {},
   "source": [
    "### Select an object based on an event-level criteria (distance, invariant mass, etc ...)\n",
    "\n",
    "The goal of this section is to look at a single object selected based on a more global criteria (activities around this object, its angle with another object, etc ...). One concrete case could be the isolation of the leptons which form a pair having $M(e,e)\\sim M(Z)$. Another case could be to look at the b-tagging weight of the jet closest to a muon in the event."
   ]
  },
  {
   "cell_type": "markdown",
   "metadata": {},
   "source": [
    "#### E.g. 1: compare the b-tagging weight of the jet closest to an electron and the others\n",
    "\n",
    "We reform all the pair here, not only with the direction but all needed variables (lile b-tagging weight):"
   ]
  },
  {
   "cell_type": "code",
   "execution_count": 53,
   "metadata": {},
   "outputs": [
    {
     "name": "stdout",
     "output_type": "stream",
     "text": [
      "(250000, 11, 5) (250000, 3, 5) (250000, 33, 2, 5)\n"
     ]
    }
   ],
   "source": [
    "jets_elec_pairs = npu.all_pairs_nd(jets, eles)\n",
    "print(jets.shape, eles.shape, jets_elec_pairs.shape)"
   ]
  },
  {
   "cell_type": "markdown",
   "metadata": {},
   "source": [
    "Then we need to isolate an array of shape (Nevt,Npair) contanining the btagg weight (3rd variable) of the first element (*i.e.* the jet) for any pair: `btagw=jets_ele_pairs[:, :, 0, 3]`"
   ]
  },
  {
   "cell_type": "code",
   "execution_count": 54,
   "metadata": {},
   "outputs": [],
   "source": [
    "jet_btag_w = npu.replace_nan(jets_elec_pairs[:, :, 0, 3], value=999)"
   ]
  },
  {
   "cell_type": "markdown",
   "metadata": {},
   "source": [
    "Getting now the index of the pair having the minimal $dR$ using the command `np.argmin(dRej,axis=1)` which return a 1D array of shape (Nevt) containing the wanted jet index for each event. Then one can use the functions `get_indexed_value()` and `get_all_but_indexed_value()` from `nu_utils.py` to get either the btag weight of the minimal $dR$ or all the others. We remind that `dRej` was already computed earlier."
   ]
  },
  {
   "cell_type": "code",
   "execution_count": 55,
   "metadata": {},
   "outputs": [],
   "source": [
    "idRmin = np.argmin(dRej, axis=1)\n",
    "jet_btag_w_dRmin = npu.get_indexed_value(jet_btag_w, idRmin)\n",
    "jet_btag_w_other = npu.get_all_but_indexed_value(jet_btag_w, idRmin)"
   ]
  },
  {
   "cell_type": "markdown",
   "metadata": {},
   "source": [
    "One then can plot the distribution of the b-tagging weight for both the closest jet and all the other, to see if this jet observable is dependent from its environement."
   ]
  },
  {
   "cell_type": "code",
   "execution_count": 56,
   "metadata": {
    "scrolled": false
   },
   "outputs": [
    {
     "data": {
      "image/png": "[encoded data removed]",
      "text/plain": [
       "<Figure size 432x288 with 1 Axes>"
      ]
     },
     "metadata": {
      "needs_background": "light"
     },
     "output_type": "display_data"
    }
   ],
   "source": [
    "plt.hist(jet_btag_w_dRmin, bins=np.linspace(-1, 1, 50),\n",
    "              alpha=0.5, density=True, log=True, label='Closest jet')\n",
    "plt.hist(jet_btag_w_other.flatten(), bins=np.linspace(-1, 1, 50),\n",
    "              alpha=0.5, density=True, log=True, label='Not the closest jets')\n",
    "plt.xlabel('$w_{b-tagging}$ of the jet')\n",
    "plt.ylabel('PDF')\n",
    "plt.legend();"
   ]
  },
  {
   "cell_type": "markdown",
   "metadata": {},
   "source": [
    "We can also do the same game but for different region in `dRmin`, in order to see if there are not small effects if the object are *really* close or not too close."
   ]
  },
  {
   "cell_type": "code",
   "execution_count": 57,
   "metadata": {},
   "outputs": [
    {
     "data": {
      "image/png": "[encoded data removed]",
      "text/plain": [
       "<Figure size 1224x720 with 4 Axes>"
      ]
     },
     "metadata": {
      "needs_background": "light"
     },
     "output_type": "display_data"
    }
   ],
   "source": [
    "fig = plt.figure(figsize=(17, 10))\n",
    "style = {\n",
    "    'bins': np.linspace(-1, 1, 50),\n",
    "    'alpha': 0.8,\n",
    "    'density': True,\n",
    "    'log': True,\n",
    "    'histtype': 'step',\n",
    "    'linewidth': 3.0\n",
    "}\n",
    "\n",
    "for i, cut in enumerate([0.35, 0.5, 1.0, 3.0]):\n",
    "    plt.subplot(2, 2, i+1)\n",
    "    dRgt_btag = jet_btag_w_dRmin*(dRmin>cut)\n",
    "    dRgt_btag[dRgt_btag == 0] = 999\n",
    "    dRlt_btag = jet_btag_w_dRmin*(dRmin<cut)\n",
    "    dRlt_btag[dRlt_btag == 0] = 999\n",
    "    plt.hist(dRgt_btag, \n",
    "                  label='$dR_{min}>'+'{:.2f}$'.format(cut), **style)\n",
    "    plt.hist(dRlt_btag, \n",
    "                  label='$dR_{min}<'+'{:.2f}$'.format(cut), **style)\n",
    "    plt.xlabel('$w_{b-tagging}$ of the closest jet')\n",
    "    plt.ylabel('PDF')\n",
    "    plt.legend()\n",
    "plt.tight_layout();"
   ]
  },
  {
   "cell_type": "markdown",
   "metadata": {},
   "source": [
    "#### E.g. 2: $p_T$ distribution for jets forming the highest $M(j,j)$"
   ]
  },
  {
   "cell_type": "code",
   "execution_count": 58,
   "metadata": {},
   "outputs": [],
   "source": [
    "j1, j2 = jet_pairs[:, :, 0, :], jet_pairs[:, :, 1, :]\n",
    "deta, dphi = j1[..., 1]-j2[..., 1], j1[..., 2]-j2[..., 2]\n",
    "pt1, pt2 = j1[..., 0], j2[..., 0]\n",
    "mjj = npu.replace_nan(\n",
    "    np.sqrt(pt1*pt2 * (np.cosh(deta)-np.cos(dphi)))/1000., -1e10)"
   ]
  },
  {
   "cell_type": "code",
   "execution_count": 59,
   "metadata": {},
   "outputs": [],
   "source": [
    "i_mjj_max = np.argmax(mjj, axis=1)\n",
    "pt_mjj_max = np.concatenate([\n",
    "    npu.get_indexed_value(pt1, i_mjj_max)/1000,\n",
    "    npu.get_indexed_value(pt2, i_mjj_max)/1000]\n",
    ")"
   ]
  },
  {
   "cell_type": "code",
   "execution_count": 61,
   "metadata": {
    "scrolled": false
   },
   "outputs": [
    {
     "data": {
      "image/png": "[encoded data removed]",
      "text/plain": [
       "<Figure size 720x504 with 1 Axes>"
      ]
     },
     "metadata": {
      "needs_background": "light"
     },
     "output_type": "display_data"
    }
   ],
   "source": [
    "fig = plt.figure(figsize=(10, 7))\n",
    "style = {\n",
    "    'bins': np.linspace(0, 2000, 100),\n",
    "    'alpha': 0.8,\n",
    "    'log': True,\n",
    "}\n",
    "plt.hist(npu.replace_nan(pt_mjj_max, -999), **style)\n",
    "plt.xlabel('Jet $p_T$ [GeV] for the two jets having max $M(j,j)$')\n",
    "plt.ylabel('Unweighted events');"
   ]
  },
  {
   "cell_type": "markdown",
   "metadata": {},
   "source": [
    "## IO between pandas/numpy and ROOT\n",
    "\n",
    "### Save some variables back into a ROOT file\n",
    "\n",
    "This is possible that one wants to save and share the obtained variables in a `ROOT` file. This is possible to do using a *structured array*, numpy object accepting both field different shape for each \"column\". This goes through a data type (which in for instance the event model) and then each column can be filled. This is in principle a simplified pandas dataframe (simplified but interfaced with `TTree` via `root_numpy`). **Note that every `np.nan` will manifest in `tree->Draw()` as 0.0**"
   ]
  },
  {
   "cell_type": "code",
   "execution_count": 62,
   "metadata": {},
   "outputs": [],
   "source": [
    "# Define the event model with ('name','type','shape') for each column\n",
    "event_model = np.dtype([\n",
    "    ('n_jets', 'i4'),\n",
    "    ('jet_pt', 'f8', (jets.shape[1],)),\n",
    "    ('jet_eta', 'f8', (jets.shape[1],)),\n",
    "    ('jet_phi', 'f8', (jets.shape[1],)),\n",
    "    ('ht', 'f8'),\n",
    "    ('ht_cent', 'f8'),\n",
    "])\n",
    "\n",
    "# Create the giant structured array\n",
    "events = np.zeros(jets.shape[0], dtype=event_model)\n",
    "events['n_jets'] = npu.count_nonnan(jets[..., 0], axis=1)\n",
    "events['jet_pt'] = jets[..., 0]\n",
    "events['jet_eta'] = jets[..., 1]\n",
    "events['jet_phi'] = jets[..., 2]\n",
    "events['ht'] = HTjets\n",
    "events['ht_cent'] = HTjets_central"
   ]
  },
  {
   "cell_type": "markdown",
   "metadata": {},
   "source": [
    "I didn't find any example of how to save numpy arrays as TTree using uproot (to be followed up). But it's definitely possible with root_numpy (but wich directly needs ROOT installed):\n",
    "\n",
    "```python\n",
    "# Possible with root_numpy\n",
    "from root_numpy import array2root\n",
    "array2root(events, 'ttbar_jets.root', 'tree_jets', mode='recreate')\n",
    "```"
   ]
  },
  {
   "cell_type": "markdown",
   "metadata": {},
   "source": [
    "## Other existing tools\n",
    "\n",
    "Many python tools for HEP can be found on [http://scikit-hep.org](http://scikit-hep.org). In particular, we can see various python tools to deal with ROOT files, as well as a special tool under developpement to manage jagged array as numpy array without the \"squaring\" I used. This tool is called [awkward-array](https://github.com/scikit-hep/awkward-array) and is directly implemented into [uproot](https://github.com/scikit-hep/uproot)."
   ]
  },
  {
   "cell_type": "code",
   "execution_count": null,
   "metadata": {},
   "outputs": [],
   "source": []
  }
 ],
 "metadata": {
  "kernelspec": {
   "display_name": "Python 3",
   "language": "python",
   "name": "python3"
  },
  "language_info": {
   "codemirror_mode": {
    "name": "ipython",
    "version": 3
   },
   "file_extension": ".py",
   "mimetype": "text/x-python",
   "name": "python",
   "nbconvert_exporter": "python",
   "pygments_lexer": "ipython3",
   "version": "3.7.1"
  }
 },
 "nbformat": 4,
 "nbformat_minor": 2
}
