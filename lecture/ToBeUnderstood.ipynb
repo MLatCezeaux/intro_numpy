{
 "cells": [
  {
   "cell_type": "markdown",
   "metadata": {},
   "source": [
    "# Example of not understood behaviours"
   ]
  },
  {
   "cell_type": "code",
   "execution_count": 33,
   "metadata": {},
   "outputs": [],
   "source": [
    "import numpy as np\n",
    "import matplotlib.pyplot as plt\n",
    "%matplotlib inline \n",
    "from scipy import optimize"
   ]
  },
  {
   "cell_type": "markdown",
   "metadata": {},
   "source": [
    "## Fitting with unfixed number of parameters\n",
    "\n",
    "In this section, we try to fit pseudo-data using a generic polynom function using packing/unpacking technics to pass an arbitrary number of coefficient `*p` (or degree of the polynom). The first function is the general one *for which the fit doesn't work* while the second one is the simple one *for which the fit works*."
   ]
  },
  {
   "cell_type": "code",
   "execution_count": 38,
   "metadata": {},
   "outputs": [],
   "source": [
    "def pol2(x, a, b, c):\n",
    "    return a + b*x + c*x**2\n",
    "\n",
    "def pol_func(x, *p):\n",
    "    a = np.array([p[i]*x**i for i in range(len(p))])\n",
    "    return np.sum(a)"
   ]
  },
  {
   "cell_type": "markdown",
   "metadata": {},
   "source": [
    "Now we can use these function fit pseudo-data, which are created here:"
   ]
  },
  {
   "cell_type": "code",
   "execution_count": 39,
   "metadata": {},
   "outputs": [],
   "source": [
    "Npoints = 10\n",
    "x = np.linspace(0.0, 3.5, Npoints)\n",
    "y = 1.5*(np.sin(x) + np.random.random(Npoints)*0.3)\n",
    "dy = 0.05+0.3*y"
   ]
  },
  {
   "cell_type": "markdown",
   "metadata": {},
   "source": [
    "Then we compare the fit optained using `pol2` and with `pol_func` where the number of parameters to minimize is determined using the initial paramters argument `p0 = [1, 1, 1]`. The first case give the proper result while the second case simply doesn't work, and no message is given:"
   ]
  },
  {
   "cell_type": "code",
   "execution_count": 45,
   "metadata": {},
   "outputs": [
    {
     "name": "stdout",
     "output_type": "stream",
     "text": [
      "[ 0.3897981   1.58640004 -0.4995235 ]\n",
      "[-314.17721884  113.33403446   26.89825003]\n"
     ]
    }
   ],
   "source": [
    "# Fit with pol2 -> OK\n",
    "best_par2, cov = optimize.curve_fit(pol2_test, x, y, sigma=dy/y, p0=initial_paramters)\n",
    "print(best_par2)\n",
    "      \n",
    "# Fit wit pol_func -> not OK\n",
    "best_par, cov = optimize.curve_fit(pol_func, x, y, sigma=dy/y, p0=[1.0, 1.0, 1.0])\n",
    "print(best_par)"
   ]
  },
  {
   "cell_type": "markdown",
   "metadata": {},
   "source": [
    "The best values obtained in each case is totally different and we can simply see which one works by plotting the result:"
   ]
  },
  {
   "cell_type": "code",
   "execution_count": 46,
   "metadata": {},
   "outputs": [
    {
     "data": {
      "image/png": "[encoded data removed]",
      "text/plain": [
       "<Figure size 576x360 with 1 Axes>"
      ]
     },
     "metadata": {
      "needs_background": "light"
     },
     "output_type": "display_data"
    }
   ],
   "source": [
    "# Plot data and fit\n",
    "xcont = np.linspace(x[0],x[-1],100)\n",
    "fig = plt.figure(figsize=(8,5))\n",
    "_ = plt.errorbar(x, y, yerr=dy, marker='o', color='black', linestyle='', label='Data')\n",
    "_ = plt.plot(xcont, pol2(xcont, *best_par2), label='pol2')\n",
    "_ = plt.plot(xcont, [pol_func(v, *best_par) for v in xcont], label='pol_func')\n",
    "_ = plt.legend(frameon=False, fontsize='xx-large')"
   ]
  },
  {
   "cell_type": "code",
   "execution_count": null,
   "metadata": {},
   "outputs": [],
   "source": []
  }
 ],
 "metadata": {
  "kernelspec": {
   "display_name": "Python 3",
   "language": "python",
   "name": "python3"
  },
  "language_info": {
   "codemirror_mode": {
    "name": "ipython",
    "version": 3
   },
   "file_extension": ".py",
   "mimetype": "text/x-python",
   "name": "python",
   "nbconvert_exporter": "python",
   "pygments_lexer": "ipython3",
   "version": "3.7.0"
  }
 },
 "nbformat": 4,
 "nbformat_minor": 2
}
