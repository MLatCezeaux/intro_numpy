{
 "cells": [
  {
   "cell_type": "markdown",
   "metadata": {},
   "source": [
    "# Example of not understood behaviours"
   ]
  },
  {
   "cell_type": "code",
   "execution_count": 1,
   "metadata": {},
   "outputs": [],
   "source": [
    "import numpy as np\n",
    "import matplotlib.pyplot as plt\n",
    "%matplotlib inline \n",
    "from scipy import optimize"
   ]
  },
  {
   "cell_type": "markdown",
   "metadata": {},
   "source": [
    "## Fitting with unfixed number of parameters\n",
    "\n",
    "In this section, we try to fit pseudo-data using a generic polynom function using packing/unpacking technics to pass an arbitrary number of coefficient `*p` (or degree of the polynom). The first function is the general one *for which the fit doesn't work* while the second one is the simple one *for which the fit works*."
   ]
  },
  {
   "cell_type": "code",
   "execution_count": 2,
   "metadata": {},
   "outputs": [],
   "source": [
    "def pol2(x, a, b, c):\n",
    "    return a + b*x + c*x**2\n",
    "\n",
    "def pol_func(x, *p):\n",
    "    a = np.array([p[i]*x**i for i in range(len(p))])\n",
    "    return np.sum(a)"
   ]
  },
  {
   "cell_type": "markdown",
   "metadata": {},
   "source": [
    "Now we can use these function fit pseudo-data, which are created here:"
   ]
  },
  {
   "cell_type": "code",
   "execution_count": 3,
   "metadata": {},
   "outputs": [],
   "source": [
    "Npoints = 10\n",
    "x = np.linspace(0.0, 3.5, Npoints)\n",
    "y = 1.5*(np.sin(x) + np.random.random(Npoints)*0.3)\n",
    "dy = 0.05+0.3*y"
   ]
  },
  {
   "cell_type": "markdown",
   "metadata": {},
   "source": [
    "Then we compare the fit optained using `pol2` and with `pol_func` where the number of parameters to minimize is determined using the initial paramters argument `p0 = [1, 1, 1]`. The first case give the proper result while the second case simply doesn't work, and no message is given:"
   ]
  },
  {
   "cell_type": "code",
   "execution_count": 7,
   "metadata": {},
   "outputs": [
    {
     "name": "stdout",
     "output_type": "stream",
     "text": [
      "[ 0.01613506  2.09372346 -0.63352876]\n",
      "[-481.04361742 -230.16765537  205.07534972]\n"
     ]
    }
   ],
   "source": [
    "# Fit with pol2 -> OK\n",
    "par1, cov1 = optimize.curve_fit(pol2, x, y, sigma=dy/y, p0=[1.0, 1.0, 1.0])\n",
    "print(par1)\n",
    "      \n",
    "# Fit wit pol_func -> not OK\n",
    "par2, cov2 = optimize.curve_fit(pol_func, x, y, sigma=dy/y, p0=[1.0, 1.0, 1.0])\n",
    "print(par2)"
   ]
  },
  {
   "cell_type": "markdown",
   "metadata": {},
   "source": [
    "The best values obtained in each case is totally different and we can simply see which one works by plotting the result:"
   ]
  },
  {
   "cell_type": "code",
   "execution_count": 9,
   "metadata": {},
   "outputs": [
    {
     "data": {
      "image/png": "[encoded data removed]",
      "text/plain": [
       "<Figure size 576x360 with 1 Axes>"
      ]
     },
     "metadata": {
      "needs_background": "light"
     },
     "output_type": "display_data"
    }
   ],
   "source": [
    "# Plot data and fit\n",
    "xcont = np.linspace(x[0],x[-1],100)\n",
    "fig = plt.figure(figsize=(8,5))\n",
    "_ = plt.errorbar(x, y, yerr=dy, marker='o', color='black', linestyle='', label='Data')\n",
    "_ = plt.plot(xcont, pol2(xcont, *par1), label='pol2')\n",
    "_ = plt.plot(xcont, [pol_func(v, *par2) for v in xcont], label='pol_func')\n",
    "_ = plt.legend(frameon=False, fontsize='xx-large')"
   ]
  },
  {
   "cell_type": "code",
   "execution_count": null,
   "metadata": {},
   "outputs": [],
   "source": []
  }
 ],
 "metadata": {
  "kernelspec": {
   "display_name": "Python 3",
   "language": "python",
   "name": "python3"
  },
  "language_info": {
   "codemirror_mode": {
    "name": "ipython",
    "version": 3
   },
   "file_extension": ".py",
   "mimetype": "text/x-python",
   "name": "python",
   "nbconvert_exporter": "python",
   "pygments_lexer": "ipython3",
   "version": "3.7.0"
  }
 },
 "nbformat": 4,
 "nbformat_minor": 2
}
