{
 "cells": [
  {
   "cell_type": "markdown",
   "metadata": {},
   "source": [
    "# Example of not understood behaviours"
   ]
  },
  {
   "cell_type": "code",
   "execution_count": 16,
   "metadata": {},
   "outputs": [],
   "source": [
    "import numpy as np\n",
    "import matplotlib.pyplot as plt\n",
    "from scipy import optimize\n",
    "%matplotlib inline "
   ]
  },
  {
   "cell_type": "markdown",
   "metadata": {},
   "source": [
    "## Fitting with packed parameters `*pars` as function argument\n",
    "\n",
    "In this section, we try to fit pseudo-data using a generic polynom function using packing/unpacking technics to pass an arbitrary number of coefficient `*pars` (or degree of the polynom). The first function is the general one *for which the fit doesn't work* while the second one is the simple one *for which the fit works*."
   ]
  },
  {
   "cell_type": "code",
   "execution_count": 17,
   "metadata": {},
   "outputs": [],
   "source": [
    "def pol2(x, a, b, c):\n",
    "    return a + b*x + c*x**2\n",
    "\n",
    "def pol_func(x, *pars):\n",
    "    a = np.array([pars[i]*x**i for i in range(len(pars))])\n",
    "    return np.sum(a)"
   ]
  },
  {
   "cell_type": "markdown",
   "metadata": {},
   "source": [
    "Now we can use these function fit pseudo-data, which are created here:"
   ]
  },
  {
   "cell_type": "code",
   "execution_count": 18,
   "metadata": {},
   "outputs": [],
   "source": [
    "Nmeas, Npoints = 10, 1000\n",
    "xcont = np.linspace(0.0, 3.5, Npoints)\n",
    "xmeas = np.linspace(0.0, 3.5, Nmeas)\n",
    "ymeas = 1.5*(np.sin(xmeas) + np.random.random(Nmeas)*0.3)\n",
    "dymeas = 0.05+0.3*ymeas"
   ]
  },
  {
   "cell_type": "markdown",
   "metadata": {},
   "source": [
    "Then we compare the fit optained using `pol2` and with `pol_func` where the number of parameters to minimize is determined using the initial paramters argument `p0 = [1, 1, 1]`. The first case give the proper result while the second case simply doesn't work, and no message is given:"
   ]
  },
  {
   "cell_type": "code",
   "execution_count": 20,
   "metadata": {},
   "outputs": [
    {
     "name": "stdout",
     "output_type": "stream",
     "text": [
      "\n",
      " Without packing arguments:\n",
      "[ 0.24569437  1.84815211 -0.58824554]\n",
      "[[ 0.02010121 -0.02061709  0.00438622]\n",
      " [-0.02061709  0.02568246 -0.00592462]\n",
      " [ 0.00438622 -0.00592462  0.00142969]]\n",
      "\n",
      " With packing arguments:\n",
      "[0.01018748 0.01120164 0.0111397 ]\n",
      "[[ 0.02010121 -0.02061709  0.00438622]\n",
      " [-0.02061709  0.02568246 -0.00592462]\n",
      " [ 0.00438622 -0.00592462  0.00142969]]\n"
     ]
    }
   ],
   "source": [
    "# Initial and bounds parmaters\n",
    "p0, pmin, pmax = [1.0]*3, [-10]*3, [10]*3\n",
    "fit_options = {'p0': p0, 'bounds': (pmin, pmax), 'check_finite': True}\n",
    "\n",
    "# Fit with pol2 -> OK\n",
    "par1, cov1 = optimize.curve_fit(pol2, xmeas, ymeas, sigma=dymeas/ymeas, **fit_options)\n",
    "print('\\n Without packing arguments:')\n",
    "print(par1)\n",
    "print(cov1)\n",
    "      \n",
    "# Fit wit pol_func -> not OK\n",
    "par2, cov2 = optimize.curve_fit(pol_func, xmeas, ymeas, sigma=dymeas/ymeas, **fit_options)\n",
    "print('\\n With packing arguments:')\n",
    "print(par2)\n",
    "print(cov1)"
   ]
  },
  {
   "cell_type": "markdown",
   "metadata": {},
   "source": [
    "The best values obtained in each case is totally different and we can simply see which one works by plotting the result:"
   ]
  },
  {
   "cell_type": "code",
   "execution_count": 21,
   "metadata": {},
   "outputs": [
    {
     "data": {
      "image/png": "[encoded data removed]",
      "text/plain": [
       "<Figure size 576x360 with 1 Axes>"
      ]
     },
     "metadata": {
      "needs_background": "light"
     },
     "output_type": "display_data"
    }
   ],
   "source": [
    "fig = plt.figure(figsize=(8,5))\n",
    "plt.errorbar(xmeas, ymeas, yerr=dymeas, marker='o', color='black', linestyle='', label='Data')\n",
    "plt.plot(xcont, pol2(xcont, *par1), label='pol2')\n",
    "plt.plot(xcont, [pol_func(v, *par2) for v in xcont], label='pol_func')\n",
    "plt.legend(frameon=False, fontsize='xx-large');"
   ]
  }
 ],
 "metadata": {
  "kernelspec": {
   "display_name": "Python 3",
   "language": "python",
   "name": "python3"
  },
  "language_info": {
   "codemirror_mode": {
    "name": "ipython",
    "version": 3
   },
   "file_extension": ".py",
   "mimetype": "text/x-python",
   "name": "python",
   "nbconvert_exporter": "python",
   "pygments_lexer": "ipython3",
   "version": "3.7.1"
  }
 },
 "nbformat": 4,
 "nbformat_minor": 2
}
