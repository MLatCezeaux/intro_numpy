{
 "cells": [
  {
   "cell_type": "markdown",
   "metadata": {},
   "source": [
    "# Short introduction to `numpy`"
   ]
  },
  {
   "cell_type": "code",
   "execution_count": 62,
   "metadata": {},
   "outputs": [],
   "source": [
    "import numpy as np\n",
    "\n",
    "# helper function to print title\n",
    "def print_title(title):\n",
    "    print('-'*len(title))\n",
    "    print(title)\n",
    "    print('-'*len(title))"
   ]
  },
  {
   "cell_type": "markdown",
   "metadata": {},
   "source": [
    "## 1. Motivations\n",
    "\n",
    "**Why `numpy`?** Because it's very well optimized (and then fast) for numerical computations in python\n",
    "\n",
    "**Why python?** Many tools available\n",
    "\n",
    "\n",
    "## 2. The core object: arrays\n",
    "\n",
    "### 2.1 Main differences with usual python lists"
   ]
  },
  {
   "cell_type": "markdown",
   "metadata": {},
   "source": [
    "Addition of lists/arrays and multiplication by a number:"
   ]
  },
  {
   "cell_type": "code",
   "execution_count": 63,
   "metadata": {},
   "outputs": [
    {
     "name": "stdout",
     "output_type": "stream",
     "text": [
      "---------\n",
      "obj1+obj2\n",
      "---------\n",
      "  python lists: [1, 2, 3, 3, 4, 5]\n",
      "  numpy arrays: [4 6 8]\n",
      "\n",
      "\n",
      "-----\n",
      "obj*2\n",
      "-----\n",
      "  python list: [1, 2, 3, 1, 2, 3]\n",
      "  numpy array: [2 4 6]\n"
     ]
    }
   ],
   "source": [
    "l1, l2 = [1, 2, 3], [3, 4, 5]\n",
    "a1, a2 = np.array([1, 2, 3]), np.array([3, 4, 5])\n",
    "\n",
    "print_title('obj1+obj2')\n",
    "print('  python lists: {}'.format(l1+l2))\n",
    "print('  numpy arrays: {}'.format(a1+a2))\n",
    "print('\\n')\n",
    "print_title('obj*2')\n",
    "print('  python list: {}'.format(l1*2))\n",
    "print('  numpy array: {}'.format(a1*2))"
   ]
  },
  {
   "cell_type": "markdown",
   "metadata": {},
   "source": [
    "Slicing and indexing:"
   ]
  },
  {
   "cell_type": "code",
   "execution_count": 69,
   "metadata": {},
   "outputs": [
    {
     "name": "stdout",
     "output_type": "stream",
     "text": [
      "--------------------------------\n",
      "Indexing with an integer: obj[1]\n",
      "--------------------------------\n",
      "  python lists: 2\n",
      "  numpy arrays: 2\n",
      "\n",
      "\n",
      "-----------------------------------------\n",
      "Indexing with a slicing: obj[slice(1,3))]\n",
      "-----------------------------------------\n",
      "  python lists: [2, 3]\n",
      "  numpy arrays: [2 3]\n",
      "\n",
      "\n",
      "------------------------------------\n",
      "Indexing with an integer: obj[[0,2]]\n",
      "------------------------------------\n",
      "  python lists: IMPOSSIBLE\n",
      "  numpy arrays: [1 3]\n"
     ]
    }
   ],
   "source": [
    "print_title('Indexing with an integer: obj[1]')\n",
    "print('  python lists: {}'.format(l1[1]))\n",
    "print('  numpy arrays: {}'.format(a1[1]))\n",
    "print('\\n')\n",
    "\n",
    "print_title('Indexing with a slicing: obj[slice(1,3))]')\n",
    "print('  python lists: {}'.format(l1[slice(1,3)]))\n",
    "print('  numpy arrays: {}'.format(list1[slice(1,3)]))\n",
    "print('\\n')\n",
    "\n",
    "print_title('Indexing with an integer: obj[[0,2]]')\n",
    "print('  python lists: IMPOSSIBLE')\n",
    "print('  numpy arrays: {}'.format(a1[[0,2]]))"
   ]
  },
  {
   "cell_type": "code",
   "execution_count": null,
   "metadata": {},
   "outputs": [],
   "source": []
  }
 ],
 "metadata": {
  "kernelspec": {
   "display_name": "Python 3",
   "language": "python",
   "name": "python3"
  },
  "language_info": {
   "codemirror_mode": {
    "name": "ipython",
    "version": 3
   },
   "file_extension": ".py",
   "mimetype": "text/x-python",
   "name": "python",
   "nbconvert_exporter": "python",
   "pygments_lexer": "ipython3",
   "version": "3.7.0"
  }
 },
 "nbformat": 4,
 "nbformat_minor": 2
}
