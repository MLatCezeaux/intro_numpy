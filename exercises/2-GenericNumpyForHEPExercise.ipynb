{
 "cells": [
  {
   "cell_type": "markdown",
   "metadata": {},
   "source": [
    "# Exercise of section 2  - `GenericNumpyForHEP` \n",
    "\n",
    "This notebook proposes exercices to practice the concepts explained during the section 2 of this tutorial. There is absolutely *no physics* in this exercise and the goal is simply to manipulate numpy arrays and perform some computations."
   ]
  },
  {
   "cell_type": "markdown",
   "metadata": {},
   "source": [
    "### Import and plots settings\n",
    "\n",
    "a. Import the two usual packages and call the magic command (starting with `%`) to have plots inline"
   ]
  },
  {
   "cell_type": "code",
   "execution_count": null,
   "metadata": {},
   "outputs": [],
   "source": []
  },
  {
   "cell_type": "markdown",
   "metadata": {},
   "source": [
    "b. Tune the plot styles as you like using `mpl.rcParams` dictionnary (one could look at [this page](https://matplotlib.org/users/customizing.html) to know all possibilities)"
   ]
  },
  {
   "cell_type": "code",
   "execution_count": null,
   "metadata": {},
   "outputs": [],
   "source": []
  },
  {
   "cell_type": "markdown",
   "metadata": {},
   "source": [
    "### Data generation\n",
    "\n",
    "a. Using `np.random.multivariate_normal()` function (see [this page](https://docs.scipy.org/doc/numpy-1.15.1/reference/generated/numpy.random.multivariate_normal.html)) and `reshape()` function, generate 1000000 observations of 9 3D spatial positions $r_i=(x,y,z)_i$ obtained from independant gaussian disributions with a $(\\mu_i,\\sigma_i)=(\\mu_x, \\mu_y, \\mu_z, \\sigma_x, \\sigma_y, \\sigma_z)_i$. We will consider the case of $\\sigma_x=\\sigma_y=\\sigma_z\\equiv\\sigma$, with $\\sigma=1.0$ for the 9 vectors, while the mean is different for the nine positions and should be centered in the 8 sommets of cube of a side length $2\\times d=10$, and one in $(0,0)$."
   ]
  },
  {
   "cell_type": "code",
   "execution_count": null,
   "metadata": {},
   "outputs": [],
   "source": []
  },
  {
   "cell_type": "markdown",
   "metadata": {},
   "source": [
    "b. Plot the 500 first observations in the $(x,y,z)$ space for all positions inclusively (with the same color), and then with one color for each of the 9 positions. "
   ]
  },
  {
   "cell_type": "code",
   "execution_count": null,
   "metadata": {},
   "outputs": [],
   "source": []
  },
  {
   "cell_type": "markdown",
   "metadata": {},
   "source": [
    "### Counting position within a circle of radius $R$\n",
    "\n",
    "a. Select the $r_i$ which are inside a circle centered in this origin of a radius $R=10$, and the one which are outside. Plot each $r_i$ in space for the first 500 observations (different color for whether it's inside or outside the circle)."
   ]
  },
  {
   "cell_type": "code",
   "execution_count": null,
   "metadata": {},
   "outputs": [],
   "source": []
  },
  {
   "cell_type": "markdown",
   "metadata": {},
   "source": [
    "b. Count the number of $r_i$ per event which are in the circus, and plot the distribution of the number over the 100000 observations."
   ]
  },
  {
   "cell_type": "code",
   "execution_count": null,
   "metadata": {},
   "outputs": [],
   "source": []
  },
  {
   "cell_type": "markdown",
   "metadata": {},
   "source": [
    "c. Compute numerically the radius $R_{95\\%}$ which contains $95\\%$ of all the points."
   ]
  },
  {
   "cell_type": "code",
   "execution_count": null,
   "metadata": {},
   "outputs": [],
   "source": []
  }
 ],
 "metadata": {
  "kernelspec": {
   "display_name": "Python 3",
   "language": "python",
   "name": "python3"
  },
  "language_info": {
   "codemirror_mode": {
    "name": "ipython",
    "version": 3
   },
   "file_extension": ".py",
   "mimetype": "text/x-python",
   "name": "python",
   "nbconvert_exporter": "python",
   "pygments_lexer": "ipython3",
   "version": "3.7.0"
  }
 },
 "nbformat": 4,
 "nbformat_minor": 2
}
